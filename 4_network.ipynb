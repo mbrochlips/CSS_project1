{
 "cells": [
  {
   "cell_type": "code",
   "execution_count": 3,
   "metadata": {},
   "outputs": [],
   "source": [
    "from bs4 import BeautifulSoup \n",
    "import requests \n",
    "import re\n",
    "import numpy as np\n",
    "import pandas as pd"
   ]
  },
  {
   "cell_type": "code",
   "execution_count": 4,
   "metadata": {},
   "outputs": [],
   "source": [
    "folder_path = \"Authors/\"\n",
    "names = pd.read_csv(folder_path + \"Authors2024.csv\")"
   ]
  },
  {
   "cell_type": "code",
   "execution_count": 6,
   "metadata": {},
   "outputs": [],
   "source": [
    "folder_path = \"Works/\"\n",
    "papers = pd.read_csv(folder_path + \"IC2S2_papers.csv\")"
   ]
  },
  {
   "cell_type": "code",
   "execution_count": null,
   "metadata": {},
   "outputs": [
    {
     "data": {
      "text/html": [
       "<div>\n",
       "<style scoped>\n",
       "    .dataframe tbody tr th:only-of-type {\n",
       "        vertical-align: middle;\n",
       "    }\n",
       "\n",
       "    .dataframe tbody tr th {\n",
       "        vertical-align: top;\n",
       "    }\n",
       "\n",
       "    .dataframe thead th {\n",
       "        text-align: right;\n",
       "    }\n",
       "</style>\n",
       "<table border=\"1\" class=\"dataframe\">\n",
       "  <thead>\n",
       "    <tr style=\"text-align: right;\">\n",
       "      <th></th>\n",
       "      <th>author_1</th>\n",
       "      <th>author_2</th>\n",
       "      <th>weight</th>\n",
       "    </tr>\n",
       "  </thead>\n",
       "  <tbody>\n",
       "  </tbody>\n",
       "</table>\n",
       "</div>"
      ],
      "text/plain": [
       "Empty DataFrame\n",
       "Columns: [author_1, author_2, weight]\n",
       "Index: []"
      ]
     },
     "execution_count": 16,
     "metadata": {},
     "output_type": "execute_result"
    }
   ],
   "source": []
  },
  {
   "cell_type": "code",
   "execution_count": 74,
   "metadata": {},
   "outputs": [],
   "source": [
    "def pair_exists(df, author_a, author_b):\n",
    "    mask = ((df[\"author_1\"] == author_a) & (df[\"author_2\"] == author_b)) | \\\n",
    "           ((df[\"author_1\"] == author_b) & (df[\"author_2\"] == author_a))\n",
    "    match_index = df[mask].index\n",
    "    return match_index, mask.any()  # Returns True if the pair exists"
   ]
  },
  {
   "cell_type": "code",
   "execution_count": null,
   "metadata": {},
   "outputs": [
    {
     "data": {
      "text/html": [
       "<div>\n",
       "<style scoped>\n",
       "    .dataframe tbody tr th:only-of-type {\n",
       "        vertical-align: middle;\n",
       "    }\n",
       "\n",
       "    .dataframe tbody tr th {\n",
       "        vertical-align: top;\n",
       "    }\n",
       "\n",
       "    .dataframe thead th {\n",
       "        text-align: right;\n",
       "    }\n",
       "</style>\n",
       "<table border=\"1\" class=\"dataframe\">\n",
       "  <thead>\n",
       "    <tr style=\"text-align: right;\">\n",
       "      <th></th>\n",
       "      <th>author_1</th>\n",
       "      <th>author_2</th>\n",
       "      <th>weight</th>\n",
       "    </tr>\n",
       "  </thead>\n",
       "  <tbody>\n",
       "    <tr>\n",
       "      <th>0</th>\n",
       "      <td>https://openalex.org/A5010373001</td>\n",
       "      <td>https://openalex.org/A5072156055</td>\n",
       "      <td>1</td>\n",
       "    </tr>\n",
       "    <tr>\n",
       "      <th>1</th>\n",
       "      <td>https://openalex.org/A5032475130</td>\n",
       "      <td>https://openalex.org/A5072156055</td>\n",
       "      <td>1</td>\n",
       "    </tr>\n",
       "    <tr>\n",
       "      <th>2</th>\n",
       "      <td>https://openalex.org/A5010373001</td>\n",
       "      <td>https://openalex.org/A5032475130</td>\n",
       "      <td>1</td>\n",
       "    </tr>\n",
       "    <tr>\n",
       "      <th>3</th>\n",
       "      <td>https://openalex.org/A5054630728</td>\n",
       "      <td>https://openalex.org/A5072156055</td>\n",
       "      <td>2</td>\n",
       "    </tr>\n",
       "    <tr>\n",
       "      <th>4</th>\n",
       "      <td>https://openalex.org/A5005839111</td>\n",
       "      <td>https://openalex.org/A5072156055</td>\n",
       "      <td>4</td>\n",
       "    </tr>\n",
       "    <tr>\n",
       "      <th>...</th>\n",
       "      <td>...</td>\n",
       "      <td>...</td>\n",
       "      <td>...</td>\n",
       "    </tr>\n",
       "    <tr>\n",
       "      <th>46178</th>\n",
       "      <td>https://openalex.org/A5067122850</td>\n",
       "      <td>https://openalex.org/A5090329397</td>\n",
       "      <td>1</td>\n",
       "    </tr>\n",
       "    <tr>\n",
       "      <th>46179</th>\n",
       "      <td>https://openalex.org/A5088656844</td>\n",
       "      <td>https://openalex.org/A5090329397</td>\n",
       "      <td>1</td>\n",
       "    </tr>\n",
       "    <tr>\n",
       "      <th>46180</th>\n",
       "      <td>https://openalex.org/A5067122850</td>\n",
       "      <td>https://openalex.org/A5088656844</td>\n",
       "      <td>1</td>\n",
       "    </tr>\n",
       "    <tr>\n",
       "      <th>46181</th>\n",
       "      <td>https://openalex.org/A5067122850</td>\n",
       "      <td>https://openalex.org/A5103326255</td>\n",
       "      <td>1</td>\n",
       "    </tr>\n",
       "    <tr>\n",
       "      <th>46182</th>\n",
       "      <td>https://openalex.org/A5088656844</td>\n",
       "      <td>https://openalex.org/A5103326255</td>\n",
       "      <td>1</td>\n",
       "    </tr>\n",
       "  </tbody>\n",
       "</table>\n",
       "<p>46183 rows × 3 columns</p>\n",
       "</div>"
      ],
      "text/plain": [
       "                               author_1                          author_2  \\\n",
       "0      https://openalex.org/A5010373001  https://openalex.org/A5072156055   \n",
       "1      https://openalex.org/A5032475130  https://openalex.org/A5072156055   \n",
       "2      https://openalex.org/A5010373001  https://openalex.org/A5032475130   \n",
       "3      https://openalex.org/A5054630728  https://openalex.org/A5072156055   \n",
       "4      https://openalex.org/A5005839111  https://openalex.org/A5072156055   \n",
       "...                                 ...                               ...   \n",
       "46178  https://openalex.org/A5067122850  https://openalex.org/A5090329397   \n",
       "46179  https://openalex.org/A5088656844  https://openalex.org/A5090329397   \n",
       "46180  https://openalex.org/A5067122850  https://openalex.org/A5088656844   \n",
       "46181  https://openalex.org/A5067122850  https://openalex.org/A5103326255   \n",
       "46182  https://openalex.org/A5088656844  https://openalex.org/A5103326255   \n",
       "\n",
       "       weight  \n",
       "0           1  \n",
       "1           1  \n",
       "2           1  \n",
       "3           2  \n",
       "4           4  \n",
       "...       ...  \n",
       "46178       1  \n",
       "46179       1  \n",
       "46180       1  \n",
       "46181       1  \n",
       "46182       1  \n",
       "\n",
       "[46183 rows x 3 columns]"
      ]
     },
     "execution_count": 83,
     "metadata": {},
     "output_type": "execute_result"
    }
   ],
   "source": [
    "edge_dict = {}\n",
    "for authors in papers[\"author_ids\"].values:\n",
    "    cleaned_string = authors.replace(\"[\", \"\").replace(\"]\", \"\").replace(\"'\", \"\")\n",
    "    authors = np.array(cleaned_string.split(\", \"))\n",
    "    \n",
    "    for i,author1 in enumerate(authors):\n",
    "        for j in range(i+1,len(authors)):\n",
    "            author2 = authors[j]\n",
    "            author_pair = tuple(sorted([author1,author2]))\n",
    "            if author_pair in edge_dict:\n",
    "                edge_dict[author_pair] += 1\n",
    "            else:\n",
    "                edge_dict[author_pair] = 1\n",
    "df = pd.DataFrame([{\"author_1\": pair[0], \"author_2\": pair[1], \"weight\": weight} for pair, weight in edge_dict.items()])\n",
    "df"
   ]
  },
  {
   "cell_type": "code",
   "execution_count": 85,
   "metadata": {},
   "outputs": [],
   "source": [
    "df.to_csv(\"Authors/author_edgelist.csv\", index = False)"
   ]
  }
 ],
 "metadata": {
  "kernelspec": {
   "display_name": "ComputationalSocialScience",
   "language": "python",
   "name": "python3"
  },
  "language_info": {
   "codemirror_mode": {
    "name": "ipython",
    "version": 3
   },
   "file_extension": ".py",
   "mimetype": "text/x-python",
   "name": "python",
   "nbconvert_exporter": "python",
   "pygments_lexer": "ipython3",
   "version": "3.11.11"
  }
 },
 "nbformat": 4,
 "nbformat_minor": 2
}

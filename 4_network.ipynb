{
 "cells": [
  {
   "cell_type": "code",
   "execution_count": 3,
   "metadata": {},
   "outputs": [],
   "source": [
    "from bs4 import BeautifulSoup \n",
    "import requests \n",
    "import re\n",
    "import numpy as np\n",
    "import pandas as pd"
   ]
  },
  {
   "cell_type": "code",
   "execution_count": 4,
   "metadata": {},
   "outputs": [],
   "source": [
    "folder_path = \"Authors/\"\n",
    "names = pd.read_csv(folder_path + \"Authors2024.csv\")"
   ]
  },
  {
   "cell_type": "code",
   "execution_count": 6,
   "metadata": {},
   "outputs": [],
   "source": [
    "folder_path = \"Works/\"\n",
    "papers = pd.read_csv(folder_path + \"IC2S2_papers.csv\")"
   ]
  },
  {
   "cell_type": "code",
   "execution_count": 16,
   "metadata": {},
   "outputs": [
    {
     "data": {
      "text/html": [
       "<div>\n",
       "<style scoped>\n",
       "    .dataframe tbody tr th:only-of-type {\n",
       "        vertical-align: middle;\n",
       "    }\n",
       "\n",
       "    .dataframe tbody tr th {\n",
       "        vertical-align: top;\n",
       "    }\n",
       "\n",
       "    .dataframe thead th {\n",
       "        text-align: right;\n",
       "    }\n",
       "</style>\n",
       "<table border=\"1\" class=\"dataframe\">\n",
       "  <thead>\n",
       "    <tr style=\"text-align: right;\">\n",
       "      <th></th>\n",
       "      <th>author_1</th>\n",
       "      <th>author_2</th>\n",
       "      <th>weight</th>\n",
       "    </tr>\n",
       "  </thead>\n",
       "  <tbody>\n",
       "  </tbody>\n",
       "</table>\n",
       "</div>"
      ],
      "text/plain": [
       "Empty DataFrame\n",
       "Columns: [author_1, author_2, weight]\n",
       "Index: []"
      ]
     },
     "execution_count": 16,
     "metadata": {},
     "output_type": "execute_result"
    }
   ],
   "source": [
    "df = pd.DataFrame(columns=[\"author_1\", \"author_2\", \"weight\"])\n",
    "df"
   ]
  },
  {
   "cell_type": "code",
   "execution_count": 70,
   "metadata": {},
   "outputs": [],
   "source": [
    "def pair_exists(df, author_a, author_b):\n",
    "    mask = ((df[\"author_1\"] == author_a) & (df[\"author_2\"] == author_b)) | \\\n",
    "           ((df[\"author_1\"] == author_b) & (df[\"author_2\"] == author_a))\n",
    "    match_index = df[mask].index\n",
    "    return match_index, mask.any()  # Returns True if the pair exists"
   ]
  },
  {
   "cell_type": "code",
   "execution_count": 71,
   "metadata": {},
   "outputs": [
    {
     "data": {
      "text/html": [
       "<div>\n",
       "<style scoped>\n",
       "    .dataframe tbody tr th:only-of-type {\n",
       "        vertical-align: middle;\n",
       "    }\n",
       "\n",
       "    .dataframe tbody tr th {\n",
       "        vertical-align: top;\n",
       "    }\n",
       "\n",
       "    .dataframe thead th {\n",
       "        text-align: right;\n",
       "    }\n",
       "</style>\n",
       "<table border=\"1\" class=\"dataframe\">\n",
       "  <thead>\n",
       "    <tr style=\"text-align: right;\">\n",
       "      <th></th>\n",
       "      <th>author_1</th>\n",
       "      <th>author_2</th>\n",
       "      <th>weight</th>\n",
       "    </tr>\n",
       "  </thead>\n",
       "  <tbody>\n",
       "    <tr>\n",
       "      <th>0</th>\n",
       "      <td>https://openalex.org/A5072156055</td>\n",
       "      <td>https://openalex.org/A5010373001</td>\n",
       "      <td>3</td>\n",
       "    </tr>\n",
       "    <tr>\n",
       "      <th>1</th>\n",
       "      <td>https://openalex.org/A5072156055</td>\n",
       "      <td>https://openalex.org/A5032475130</td>\n",
       "      <td>7</td>\n",
       "    </tr>\n",
       "    <tr>\n",
       "      <th>2</th>\n",
       "      <td>https://openalex.org/A5010373001</td>\n",
       "      <td>https://openalex.org/A5072156055</td>\n",
       "      <td>2</td>\n",
       "    </tr>\n",
       "    <tr>\n",
       "      <th>3</th>\n",
       "      <td>https://openalex.org/A5010373001</td>\n",
       "      <td>https://openalex.org/A5032475130</td>\n",
       "      <td>2</td>\n",
       "    </tr>\n",
       "    <tr>\n",
       "      <th>4</th>\n",
       "      <td>https://openalex.org/A5032475130</td>\n",
       "      <td>https://openalex.org/A5072156055</td>\n",
       "      <td>2</td>\n",
       "    </tr>\n",
       "    <tr>\n",
       "      <th>...</th>\n",
       "      <td>...</td>\n",
       "      <td>...</td>\n",
       "      <td>...</td>\n",
       "    </tr>\n",
       "    <tr>\n",
       "      <th>442</th>\n",
       "      <td>https://openalex.org/A5014647140</td>\n",
       "      <td>https://openalex.org/A5067142016</td>\n",
       "      <td>4</td>\n",
       "    </tr>\n",
       "    <tr>\n",
       "      <th>443</th>\n",
       "      <td>https://openalex.org/A5008033989</td>\n",
       "      <td>https://openalex.org/A5067142016</td>\n",
       "      <td>3</td>\n",
       "    </tr>\n",
       "    <tr>\n",
       "      <th>444</th>\n",
       "      <td>https://openalex.org/A5069948947</td>\n",
       "      <td>https://openalex.org/A5078253058</td>\n",
       "      <td>2</td>\n",
       "    </tr>\n",
       "    <tr>\n",
       "      <th>445</th>\n",
       "      <td>https://openalex.org/A5069948947</td>\n",
       "      <td>https://openalex.org/A5014647140</td>\n",
       "      <td>2</td>\n",
       "    </tr>\n",
       "    <tr>\n",
       "      <th>446</th>\n",
       "      <td>https://openalex.org/A5078253058</td>\n",
       "      <td>https://openalex.org/A5014647140</td>\n",
       "      <td>2</td>\n",
       "    </tr>\n",
       "  </tbody>\n",
       "</table>\n",
       "<p>447 rows × 3 columns</p>\n",
       "</div>"
      ],
      "text/plain": [
       "                             author_1                          author_2  \\\n",
       "0    https://openalex.org/A5072156055  https://openalex.org/A5010373001   \n",
       "1    https://openalex.org/A5072156055  https://openalex.org/A5032475130   \n",
       "2    https://openalex.org/A5010373001  https://openalex.org/A5072156055   \n",
       "3    https://openalex.org/A5010373001  https://openalex.org/A5032475130   \n",
       "4    https://openalex.org/A5032475130  https://openalex.org/A5072156055   \n",
       "..                                ...                               ...   \n",
       "442  https://openalex.org/A5014647140  https://openalex.org/A5067142016   \n",
       "443  https://openalex.org/A5008033989  https://openalex.org/A5067142016   \n",
       "444  https://openalex.org/A5069948947  https://openalex.org/A5078253058   \n",
       "445  https://openalex.org/A5069948947  https://openalex.org/A5014647140   \n",
       "446  https://openalex.org/A5078253058  https://openalex.org/A5014647140   \n",
       "\n",
       "     weight  \n",
       "0         3  \n",
       "1         7  \n",
       "2         2  \n",
       "3         2  \n",
       "4         2  \n",
       "..      ...  \n",
       "442       4  \n",
       "443       3  \n",
       "444       2  \n",
       "445       2  \n",
       "446       2  \n",
       "\n",
       "[447 rows x 3 columns]"
      ]
     },
     "execution_count": 71,
     "metadata": {},
     "output_type": "execute_result"
    }
   ],
   "source": [
    "for authors in papers[\"author_ids\"].values[:10]:\n",
    "    cleaned_string = authors.replace(\"[\", \"\").replace(\"]\", \"\").replace(\"'\", \"\")\n",
    "    authors = np.array(cleaned_string.split(\", \"))\n",
    "    \n",
    "    for i,author1 in enumerate(authors):\n",
    "        for j, author2 in enumerate(authors[i+1:]):\n",
    "            index, match = pair_exists(df, author1, author2)\n",
    "            if not match: #hvis parret ikke eksisterer endnu:\n",
    "                df.loc[len(df)] = {\"author_1\": author1, \"author_2\": author2, \"weight\" : 1}\n",
    "            else: # (hvis parret allerede eksisterer):\n",
    "                df.loc[index,\"weight\"] += 1\n",
    "df"
   ]
  }
 ],
 "metadata": {
  "kernelspec": {
   "display_name": "ComputationalSocialScience",
   "language": "python",
   "name": "python3"
  },
  "language_info": {
   "codemirror_mode": {
    "name": "ipython",
    "version": 3
   },
   "file_extension": ".py",
   "mimetype": "text/x-python",
   "name": "python",
   "nbconvert_exporter": "python",
   "pygments_lexer": "ipython3",
   "version": "3.11.11"
  }
 },
 "nbformat": 4,
 "nbformat_minor": 2
}

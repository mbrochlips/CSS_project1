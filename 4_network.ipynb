{
 "cells": [
  {
   "cell_type": "code",
   "metadata": {
    "ExecuteTime": {
     "end_time": "2025-03-04T20:43:12.601178Z",
     "start_time": "2025-03-04T20:43:12.564824Z"
    }
   },
   "source": [
    "from bs4 import BeautifulSoup \n",
    "import requests \n",
    "import re\n",
    "import numpy as np\n",
    "import pandas as pd\n",
    "import networkx as nx\n",
    "import matplotlib.pyplot as plt\n",
    "from collections import Counter"
   ],
   "outputs": [],
   "execution_count": 35
  },
  {
   "cell_type": "code",
   "metadata": {
    "ExecuteTime": {
     "end_time": "2025-03-04T20:43:12.774425Z",
     "start_time": "2025-03-04T20:43:12.652891Z"
    }
   },
   "source": [
    "folder_path = \"Works/\"\n",
    "papers = pd.read_csv(folder_path + \"IC2S2_papers.csv\")"
   ],
   "outputs": [],
   "execution_count": 36
  },
  {
   "cell_type": "code",
   "metadata": {
    "ExecuteTime": {
     "end_time": "2025-03-04T20:43:12.918731Z",
     "start_time": "2025-03-04T20:43:12.907306Z"
    }
   },
   "source": [
    "def pair_exists(df, author_a, author_b):\n",
    "    mask = ((df[\"author_1\"] == author_a) & (df[\"author_2\"] == author_b)) | \\\n",
    "           ((df[\"author_1\"] == author_b) & (df[\"author_2\"] == author_a))\n",
    "    match_index = df[mask].index\n",
    "    return match_index, mask.any()  # Returns True if the pair exists"
   ],
   "outputs": [],
   "execution_count": 37
  },
  {
   "cell_type": "code",
   "metadata": {
    "ExecuteTime": {
     "end_time": "2025-03-04T20:43:13.076694Z",
     "start_time": "2025-03-04T20:43:12.958880Z"
    }
   },
   "source": [
    "edge_dict = {}\n",
    "for authors in papers[\"author_ids\"].values:\n",
    "    cleaned_string = authors.replace(\"[\", \"\").replace(\"]\", \"\").replace(\"'\", \"\")\n",
    "    authors = np.array(cleaned_string.split(\", \"))\n",
    "    \n",
    "    for i,author1 in enumerate(authors):\n",
    "        for j in range(i+1,len(authors)):\n",
    "            author2 =    authors[j]\n",
    "            author_pair = tuple(sorted([author1,author2]))\n",
    "            if author_pair in edge_dict:\n",
    "                edge_dict[author_pair] += 1\n",
    "            else:\n",
    "                edge_dict[author_pair] = 1\n",
    "df = pd.DataFrame([{\"author_1\": pair[0], \"author_2\": pair[1], \"weight\": weight} for pair, weight in edge_dict.items()])\n",
    "df"
   ],
   "outputs": [
    {
     "data": {
      "text/plain": [
       "Empty DataFrame\n",
       "Columns: []\n",
       "Index: []"
      ],
      "text/html": [
       "<div>\n",
       "<style scoped>\n",
       "    .dataframe tbody tr th:only-of-type {\n",
       "        vertical-align: middle;\n",
       "    }\n",
       "\n",
       "    .dataframe tbody tr th {\n",
       "        vertical-align: top;\n",
       "    }\n",
       "\n",
       "    .dataframe thead th {\n",
       "        text-align: right;\n",
       "    }\n",
       "</style>\n",
       "<table border=\"1\" class=\"dataframe\">\n",
       "  <thead>\n",
       "    <tr style=\"text-align: right;\">\n",
       "      <th></th>\n",
       "    </tr>\n",
       "  </thead>\n",
       "  <tbody>\n",
       "  </tbody>\n",
       "</table>\n",
       "</div>"
      ]
     },
     "execution_count": 38,
     "metadata": {},
     "output_type": "execute_result"
    }
   ],
   "execution_count": 38
  },
  {
   "cell_type": "code",
   "metadata": {
    "ExecuteTime": {
     "end_time": "2025-03-04T20:43:13.218175Z",
     "start_time": "2025-03-04T20:43:13.209302Z"
    }
   },
   "source": [
    "#df.to_csv(\"Authors/author_edgelist.csv\", index = False)"
   ],
   "outputs": [],
   "execution_count": 39
  },
  {
   "cell_type": "code",
   "metadata": {
    "ExecuteTime": {
     "end_time": "2025-03-04T20:43:13.329017Z",
     "start_time": "2025-03-04T20:43:13.278890Z"
    }
   },
   "source": [
    "df = pd.read_csv(\"Authors/author_edgelist.csv\")"
   ],
   "outputs": [],
   "execution_count": 40
  },
  {
   "cell_type": "code",
   "metadata": {
    "ExecuteTime": {
     "end_time": "2025-03-04T20:43:17.409674Z",
     "start_time": "2025-03-04T20:43:13.500166Z"
    }
   },
   "source": [
    "G = nx.Graph()\n",
    "\n",
    "edges = [(row['author_1'], row['author_2'], row['weight']) for index, row in df.iterrows()]\n",
    "\n",
    "G.add_weighted_edges_from(edges)"
   ],
   "outputs": [],
   "execution_count": 41
  },
  {
   "cell_type": "code",
   "metadata": {
    "ExecuteTime": {
     "end_time": "2025-03-04T20:43:17.425096Z",
     "start_time": "2025-03-04T20:43:17.418726Z"
    }
   },
   "source": [
    "nodes_N = G.nodes\n",
    "author_N = len(nodes_N) #the number of authors\n",
    "author_N"
   ],
   "outputs": [
    {
     "data": {
      "text/plain": [
       "14158"
      ]
     },
     "execution_count": 42,
     "metadata": {},
     "output_type": "execute_result"
    }
   ],
   "execution_count": 42
  },
  {
   "cell_type": "code",
   "metadata": {
    "ExecuteTime": {
     "end_time": "2025-03-04T20:43:17.461261Z",
     "start_time": "2025-03-04T20:43:17.453173Z"
    }
   },
   "source": [
    "weight_sum = int(sum(df[\"weight\"].values))\n",
    "weight_sum"
   ],
   "outputs": [
    {
     "data": {
      "text/plain": [
       "80381"
      ]
     },
     "execution_count": 43,
     "metadata": {},
     "output_type": "execute_result"
    }
   ],
   "execution_count": 43
  },
  {
   "cell_type": "code",
   "metadata": {
    "ExecuteTime": {
     "end_time": "2025-03-04T20:43:17.509126Z",
     "start_time": "2025-03-04T20:43:17.493067Z"
    }
   },
   "source": [
    "nx.is_connected(G)"
   ],
   "outputs": [
    {
     "data": {
      "text/plain": [
       "False"
      ]
     },
     "execution_count": 44,
     "metadata": {},
     "output_type": "execute_result"
    }
   ],
   "execution_count": 44
  },
  {
   "cell_type": "markdown",
   "metadata": {},
   "source": [
    "The graph is disconnected. There are isolated groups of nodes with no path connecting them."
   ]
  },
  {
   "cell_type": "code",
   "metadata": {
    "ExecuteTime": {
     "end_time": "2025-03-04T20:43:17.573704Z",
     "start_time": "2025-03-04T20:43:17.555404Z"
    }
   },
   "source": [
    "list_of_connected_comp = list(nx.connected_components(G))\n",
    "print(len(list_of_connected_comp)) # number of connected components"
   ],
   "outputs": [
    {
     "name": "stdout",
     "output_type": "stream",
     "text": [
      "223\n"
     ]
    }
   ],
   "execution_count": 45
  },
  {
   "cell_type": "code",
   "metadata": {
    "ExecuteTime": {
     "end_time": "2025-03-04T20:43:17.591943Z",
     "start_time": "2025-03-04T20:43:17.580859Z"
    }
   },
   "source": [
    "list(nx.isolates(G)) "
   ],
   "outputs": [
    {
     "data": {
      "text/plain": [
       "[]"
      ]
     },
     "execution_count": 46,
     "metadata": {},
     "output_type": "execute_result"
    }
   ],
   "execution_count": 46
  },
  {
   "cell_type": "markdown",
   "metadata": {},
   "source": [
    "There are 223 connected components and no isolated nodes in the network. It was expected that there was no isolated nodes as the network was created form a edgelist."
   ]
  },
  {
   "cell_type": "code",
   "metadata": {
    "ExecuteTime": {
     "end_time": "2025-03-04T20:43:17.643937Z",
     "start_time": "2025-03-04T20:43:17.638846Z"
    }
   },
   "source": [
    "density = weight_sum/((author_N*(author_N-1))/2)\n",
    "density #very low density"
   ],
   "outputs": [
    {
     "data": {
      "text/plain": [
       "0.00080206628383695"
      ]
     },
     "execution_count": 47,
     "metadata": {},
     "output_type": "execute_result"
    }
   ],
   "execution_count": 47
  },
  {
   "cell_type": "markdown",
   "metadata": {},
   "source": [
    "223 connected componnents suggests that G is poorly connected (low connectivity). This is underlined by the low density. This means that the data suggests that the CSS reasearchers are poorly connected and work in around 233 isolated groups."
   ]
  },
  {
   "metadata": {
    "ExecuteTime": {
     "end_time": "2025-03-04T20:46:03.201880Z",
     "start_time": "2025-03-04T20:46:03.018815Z"
    }
   },
   "cell_type": "code",
   "outputs": [],
   "execution_count": 50,
   "source": [
    "# Get the degree of each node (as a list of values)\n",
    "degrees = [degree for node, degree in G.degree()]\n",
    "\n",
    "# Compute the required statistics\n",
    "average_degree = np.mean(degrees)\n",
    "median_degree = np.median(degrees)\n",
    "counter = Counter(degrees)\n",
    "mode_degree, mode_count = counter.most_common(1)[0]\n",
    "minimum_degree = np.min(degrees)\n",
    "maximum_degree = np.max(degrees)\n"
   ]
  },
  {
   "metadata": {
    "ExecuteTime": {
     "end_time": "2025-03-04T20:46:17.014101Z",
     "start_time": "2025-03-04T20:46:16.955850Z"
    }
   },
   "cell_type": "code",
   "outputs": [],
   "execution_count": 51,
   "source": [
    "# Calculate node strength (weighted degree) for each node\n",
    "strengths = [strength for node, strength in G.degree(weight='weight')]\n",
    "\n",
    "# Compute the required statistics\n",
    "average_strength = np.mean(strengths)\n",
    "median_strength = np.median(strengths)\n",
    "counter_strength = Counter(strengths)\n",
    "mode_strength, mode_count = counter_strength.most_common(1)[0]\n",
    "minimum_strength = np.min(strengths)\n",
    "maximum_strength = np.max(strengths)"
   ]
  },
  {
   "metadata": {
    "ExecuteTime": {
     "end_time": "2025-03-04T20:46:25.284224Z",
     "start_time": "2025-03-04T20:46:25.276131Z"
    }
   },
   "cell_type": "code",
   "outputs": [
    {
     "name": "stdout",
     "output_type": "stream",
     "text": [
      "Average degree: 6.523944059895466\n",
      "Median degree: 5.0\n",
      "Mode degree: 3\n",
      "Minimum degree: 1\n",
      "Maximum degree: 593\n",
      "\n",
      "Average strength: 11.3548523802797\n",
      "Median strength: 6.0\n",
      "Mode strength: 3\n",
      "Minimum strength: 1\n",
      "Maximum strength: 1295\n"
     ]
    }
   ],
   "execution_count": 53,
   "source": [
    "# Print the computed degree statistics\n",
    "print(\"Average degree:\", average_degree)\n",
    "print(\"Median degree:\", median_degree)\n",
    "print(\"Mode degree:\", mode_degree)\n",
    "print(\"Minimum degree:\", minimum_degree)\n",
    "print(\"Maximum degree:\", maximum_degree)\n",
    "\n",
    "print()\n",
    "\n",
    "# Print the computed node strength statistics\n",
    "print(\"Average strength:\", average_strength)\n",
    "print(\"Median strength:\", median_strength)\n",
    "print(\"Mode strength:\", mode_strength)\n",
    "print(\"Minimum strength:\", minimum_strength)\n",
    "print(\"Maximum strength:\", maximum_strength)"
   ]
  },
  {
   "metadata": {},
   "cell_type": "markdown",
   "source": [
    "We can tell from the degree information that on average each author collaborates with around 6 to 7 other authors. We can tell from the median and mode and most authors work in small networks. We can also see that there is a large range of collaborations $[1..593]$, with some authors only having 1 collaboration while others have hundreds.\n",
    "\n",
    "When looking at the strength of the connections we can see that the average is 11.35 which indicates that people prefer to repeat collaborations rather than to make new connections. We can also see this from the median and mode where we can see that most authors collaborate with small groups. We can also see from the maximum that some authors co-author many papers, suggesting that they have a large network connection."
   ]
  },
  {
   "cell_type": "code",
   "metadata": {
    "ExecuteTime": {
     "end_time": "2025-03-04T20:43:19.620043Z",
     "start_time": "2025-03-04T20:43:17.747285Z"
    }
   },
   "source": [
    "weighted_degree_dict = dict(G.degree(weight=\"weight\"))\n",
    "\n",
    "most_connected_weighted_nodes = sorted(weighted_degree_dict.items(), key=lambda x: x[1], reverse=True)\n",
    "\n",
    "url = 'https://api.openalex.org/authors/'\n",
    "\n",
    "print(\"Top 5:\")\n",
    "for id_url, weighted_degree in most_connected_weighted_nodes[:5]:\n",
    "    index = id_url.find(\"A\")\n",
    "    id = id_url[index:]\n",
    "    response = requests.get(url + id).json()\n",
    "    name = response[\"display_name\"]\n",
    "\n",
    "    print(f\"Node {id_url} with weight: {weighted_degree}\")\n",
    "    print(name)\n",
    "    \n",
    "    field = response[\"topics\"][0][\"field\"][\"display_name\"]\n",
    "    subfield = response[\"topics\"][0][\"subfield\"][\"display_name\"]\n",
    "    print(f\"Field: {field}, Subfield: {subfield}\")\n",
    "    print(\"\")"
   ],
   "outputs": [
    {
     "name": "stdout",
     "output_type": "stream",
     "text": [
      "Top 5:\n",
      "Node https://openalex.org/A5100381753 with weight: 1295\n",
      "Shuicheng Yan\n",
      "Field: Computer Science, Subfield: Computer Vision and Pattern Recognition\n",
      "\n",
      "Node https://openalex.org/A5007176508 with weight: 937\n",
      "Alex Pentland\n",
      "Field: Social Sciences, Subfield: Transportation\n",
      "\n",
      "Node https://openalex.org/A5021346979 with weight: 845\n",
      "Filippo Menczer\n",
      "Field: Computer Science, Subfield: Information Systems\n",
      "\n",
      "Node https://openalex.org/A5048877432 with weight: 641\n",
      "Bruno Lepri\n",
      "Field: Social Sciences, Subfield: Transportation\n",
      "\n",
      "Node https://openalex.org/A5011228873 with weight: 637\n",
      "Alessandro Flammini\n",
      "Field: Physics and Astronomy, Subfield: Statistical and Nonlinear Physics\n",
      "\n"
     ]
    }
   ],
   "execution_count": 49
  },
  {
   "cell_type": "markdown",
   "metadata": {},
   "source": [
    "The last one is odd... \n",
    "Explain the results:"
   ]
  }
 ],
 "metadata": {
  "kernelspec": {
   "display_name": "02467CSS",
   "language": "python",
   "name": "python3"
  },
  "language_info": {
   "codemirror_mode": {
    "name": "ipython",
    "version": 3
   },
   "file_extension": ".py",
   "mimetype": "text/x-python",
   "name": "python",
   "nbconvert_exporter": "python",
   "pygments_lexer": "ipython3",
   "version": "3.11.11"
  }
 },
 "nbformat": 4,
 "nbformat_minor": 2
}

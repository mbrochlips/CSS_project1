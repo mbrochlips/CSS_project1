{
 "cells": [
  {
   "metadata": {},
   "cell_type": "markdown",
   "source": [
    "### Link to git repository:\n",
    "https://github.com/mbrochlips/CSS_project1\n",
    "\n",
    "### Contributions:\n",
    "| Name               | Part 1 | Part 2 | Part 3 | Part 4 |\n",
    "|--------------------|--------|--------|--------|--------|\n",
    "| Mikkel (s234860)   | 40%    | 30%    | 30%    | 35%    |\n",
    "| Kantinka (s235058) | 30%    | 40%    | 30%    | 35%    |\n",
    "| Marcus (s234816)   | 30%    | 30%    | 40%    | 30%    |"
   ]
  },
  {
   "metadata": {
    "ExecuteTime": {
     "end_time": "2025-03-04T22:06:14.897822Z",
     "start_time": "2025-03-04T22:06:12.670798Z"
    }
   },
   "cell_type": "code",
   "source": [
    "# Library imports\n",
    "from bs4 import BeautifulSoup \n",
    "import re\n",
    "import pandas as pd\n",
    "import requests\n",
    "from time import sleep\n",
    "from json import JSONDecodeError\n",
    "import numpy as np\n",
    "from concurrent.futures import ThreadPoolExecutor, as_completed\n",
    "import networkx as nx\n",
    "import matplotlib.pyplot as plt\n",
    "from collections import Counter\n",
    "from thefuzz import fuzz"
   ],
   "outputs": [],
   "execution_count": 1
  },
  {
   "metadata": {},
   "cell_type": "markdown",
   "source": "### Part 1: Web-scraping"
  },
  {
   "metadata": {
    "ExecuteTime": {
     "end_time": "2025-03-04T22:06:15.395460Z",
     "start_time": "2025-03-04T22:06:14.903006Z"
    }
   },
   "cell_type": "code",
   "source": [
    "url = \"https://ic2s2-2023.org/program\"\n",
    "r = requests.get(url) \n",
    "soup = BeautifulSoup(r.content) \n",
    "\n",
    "data = soup.find_all(\"i\")\n",
    "\n",
    "text = str(data)\n",
    "\n",
    "cleaned_text = re.sub(r'<[^>]+>', '', text)\n",
    "\n",
    "cleaned_text = re.sub(r'Chair:', '', cleaned_text)\n",
    "\n",
    "names = [name.strip().lower() for name in cleaned_text.split(',')]\n",
    "\n",
    "names[0] = names[0][2:]\n",
    "names[-1] = names[0][:-1]\n",
    "\n",
    "#print(names)"
   ],
   "outputs": [],
   "execution_count": 2
  },
  {
   "cell_type": "code",
   "metadata": {
    "ExecuteTime": {
     "end_time": "2025-03-04T22:06:15.698992Z",
     "start_time": "2025-03-04T22:06:15.681596Z"
    }
   },
   "source": [
    "for elem in data:\n",
    "    name = \"Linda Steg\"\n",
    "    if name in str(elem):\n",
    "        print(f\"{name} found\")\n",
    "print(f\"{name} not found\")\n",
    "\n",
    "# Seems that no keynote speakers included"
   ],
   "outputs": [
    {
     "name": "stdout",
     "output_type": "stream",
     "text": [
      "Linda Steg not found\n"
     ]
    }
   ],
   "execution_count": 3
  },
  {
   "cell_type": "code",
   "metadata": {
    "ExecuteTime": {
     "end_time": "2025-03-04T22:06:15.801588Z",
     "start_time": "2025-03-04T22:06:15.705108Z"
    }
   },
   "source": [
    "soup = BeautifulSoup(r.text, \"html.parser\")\n",
    "\n",
    "keynote_elements = soup.find_all(\"td\", colspan=\"100%\")\n",
    "\n",
    "names_keynote = []\n",
    "for elem in keynote_elements:\n",
    "    if \"keynotes\" in str(elem):\n",
    "        index = str(elem).find(\"Keynote - \")\n",
    "        name = str(elem)[index+10:-13]\n",
    "        names_keynote.append(name.lower())\n",
    "\n",
    "#print(names_keynote)\n",
    "\n",
    "allnames = names + names_keynote"
   ],
   "outputs": [],
   "execution_count": 4
  },
  {
   "metadata": {
    "ExecuteTime": {
     "end_time": "2025-03-04T22:06:19.247685Z",
     "start_time": "2025-03-04T22:06:15.865798Z"
    }
   },
   "cell_type": "code",
   "source": [
    "# NOTE: To find all unique names we used chatgpt to help us filtering the names.\n",
    "\n",
    "# Steps:\n",
    "# 1.\tCheck for exact duplicates.\n",
    "# 2.\tUse fuzzy matching to detect minor spelling differences.\n",
    "# 3.\tHandle middle name variations (keep the longest version)\n",
    "\n",
    "# Function to check if one name is a short version of another\n",
    "def is_shorter_version(name1, name2):\n",
    "    name1_parts = set(name1.split())\n",
    "    name2_parts = set(name2.split())\n",
    "    return name1_parts.issubset(name2_parts) or name2_parts.issubset(name1_parts)\n",
    "\n",
    "# Filter out duplicates with minor differences\n",
    "unique_names = []\n",
    "for name in allnames:\n",
    "    name  = name.title().strip()\n",
    "    found_duplicate = False\n",
    "    for unique in unique_names: \n",
    "        # Check for minor spelling differences\n",
    "        if fuzz.ratio(name, unique) > 90:\n",
    "            found_duplicate = True\n",
    "            break\n",
    "        # Check if one is a shorter version of another\n",
    "        if is_shorter_version(name, unique):\n",
    "            if len(name) > len(unique):  # Keep the longer version\n",
    "                unique_names.remove(unique)\n",
    "                unique_names.append(name)\n",
    "            found_duplicate = True\n",
    "            break\n",
    "    if not found_duplicate:\n",
    "        unique_names.append(name)\n",
    "\n",
    "# Print length of cleaned list\n",
    "print(len(unique_names))"
   ],
   "outputs": [
    {
     "name": "stdout",
     "output_type": "stream",
     "text": [
      "1455\n"
     ]
    }
   ],
   "execution_count": 5
  },
  {
   "cell_type": "markdown",
   "metadata": {},
   "source": [
    "### 6. Explaining the process.\n",
    "\n",
    "Looking into the html code of the website it was quickly seen that most names were written in italics \\<i> . This included the two talks categories and posters. But some names were also with underscore \\<u> and often many names where listed together. To clean this the library RegEx (re) was used to filter different cases found (including filtering \"Chair:\"). \n",
    "\n",
    "After checking names from different areas in the webpage we found that we were only missing the the keynote speakers at the top of the webpage. It was discovered that \"td\", colspan=\"100%\" was unique for the lines with Keynote speakers. And the found names were added. Lastly, all names where cleaned and we searched for dublicates (including spelling mistakes and handling different versions of middle names).\n",
    "\n",
    "Name count = 1455\n",
    "\n",
    "___"
   ]
  },
  {
   "cell_type": "markdown",
   "metadata": {},
   "source": [
    "### Part 2: Ready Made vs Custom Made Data"
   ]
  },
  {
   "cell_type": "markdown",
   "metadata": {},
   "source": [
    "#### Pros and cons of the custom-made data vs. ready-made data\n",
    "One of the advantages of custom-made data is being able to control the experimental setup to precisely fit the research question. E.g. by making a randomized setup, with a control group as in Centolas experiment. This is harder to achieve in ready-made data, as the participants might not be a representative of the entire population. E.g. It might be only some types of people who uses the fitness tracking app in Nicolaides study. Moreover the data might be incomplete or dirty, and demographic information might be sparse, either due to limited collection of data or privacy concerns.\n",
    "\n",
    "The advantages of ready-made data is that it can contain large samples taken continuously over a long period of time, whereas custom-made data has to be planned and can be costly to obtain. Ready-made data can also reflect real world conditions more closely, as the data is not obtained from an artificial setting. \n",
    "\n",
    "#### How the differences can influence the interpretation of the results\n",
    "In Centola’s experiment, the setup might be too far from a real setting to say something general about behavior contagion, as there are lots of factors the study doesn’t consider. \n",
    "\n",
    "In Nicolaides study, there is a risk of that the people who used the fitness-app is not representative of the population, maybe they are generally more social, or generally more keen to be nudged by their friends’ behavior. There is also a chance that the data doesn’t affect the theoretical concept in study, or that there are confounders. The researchers tried to take account of the latter, by using an instrumental variable. "
   ]
  },
  {
   "cell_type": "markdown",
   "metadata": {},
   "source": [
    "___\n",
    "### Part 3: Gathering Research Articles using the OpenAlex API"
   ]
  },
  {
   "cell_type": "markdown",
   "metadata": {},
   "source": [
    "> **Exercise : Collecting Research Articles from IC2S2 Authors**\n",
    ">\n",
    ">In this exercise, we'll leverage the OpenAlex API to gather information on research articles authored by participants of the IC2S2 2024 (NOT 2023) conference, referred to as *IC2S2 authors*. **Before you start, please ensure you read through the entire exercise.**\n",
    ">\n",
    ">\n",
    "> **Steps:**\n",
    ">\n",
    "> 1. **Retrieve Data:** Starting with the *authors* you identified in Week 2, Exercise 2, use the OpenAlex API [works endpoint](https://docs.openalex.org/api-entities/works) to fetch the research articles they have authored. For each article, retrieve the following details:\n",
    ">    - _id_: The unique OpenAlex ID for the work.\n",
    ">    - _publication_year_: The year the work was published.\n",
    ">    - _cited_by_count_: The number of times the work has been cited by other works.\n",
    ">    - _author_ids_: The OpenAlex IDs for the authors of the work.\n",
    ">    - _title_: The title of the work.\n",
    ">    - _abstract_inverted_index_: The abstract of the work, formatted as an inverted index.\n",
    ">\n",
    ">     **Important Note on Paging:** By default, the OpenAlex API limits responses to 25 works per request. For more efficient data retrieval, I suggest to adjust this limit to 200 works per request. Even with this adjustment, you will need to implement pagination to access all available works for a given query. This ensures you can systematically retrieve the complete set of works beyond the initial 200. Find guidance on implementing pagination [here](https://docs.openalex.org/how-to-use-the-api/get-lists-of-entities/paging#cursor-paging).\n",
    ">\n",
    "> 2. **Data Storage:** Organize the retrieved information into two Pandas DataFrames and save them to two files in a suitable format:\n",
    ">    - The *IC2S2 papers* dataset should include: *id, publication\\_year, cited\\_by\\_count, author\\_ids*.\n",
    ">    - The *IC2S2 abstracts* dataset should include: *id, title, abstract\\_inverted\\_index*.\n",
    ">\n",
    ">\n",
    "> **Filters:**\n",
    "> To ensure the data we collect is relevant and manageable, apply the following filters:\n",
    ">\n",
    ">    - Only include *IC2S2 authors* with a total work count between 5 and 5,000.\n",
    ">    - Retrieve only works that have received more than 10 citations.\n",
    ">    - Limit to works authored by fewer than 10 individuals.\n",
    ">    - Include only works relevant to Computational Social Science (focusing on: Sociology OR Psychology OR Economics OR Political Science) AND intersecting with a quantitative discipline (Mathematics OR Physics OR Computer Science), as defined by their [Concepts](https://docs.openalex.org/api-entities/works/work-object#concepts). *Note*: here we only consider Concepts at *level=0* (the most coarse definition of concepts).\n",
    ">\n",
    ">\n"
   ]
  },
  {
   "metadata": {
    "ExecuteTime": {
     "end_time": "2025-03-04T22:06:19.359531Z",
     "start_time": "2025-03-04T22:06:19.323887Z"
    }
   },
   "cell_type": "code",
   "source": [
    "# Read authors CSV file\n",
    "csv_path = 'Authors/Authors2024.csv'\n",
    "authors = pd.read_csv(csv_path)\n",
    "\n",
    "authors"
   ],
   "outputs": [
    {
     "data": {
      "text/plain": [
       "                                    id             display_name  \\\n",
       "0     https://openalex.org/A5101854927            Hazem Ibrahim   \n",
       "1     https://openalex.org/A5007282319             Talal Rahwan   \n",
       "2     https://openalex.org/A5018129441               Yasir Zaki   \n",
       "3     https://openalex.org/A5077466034   Vikram Balasubramanian   \n",
       "4     https://openalex.org/A5030255458               Guodong Ju   \n",
       "...                                ...                      ...   \n",
       "1125  https://openalex.org/A5025218700          Amit Goldenberg   \n",
       "1126  https://openalex.org/A5061723972       Federico Zimmerman   \n",
       "1127  https://openalex.org/A5092145709         Brooke Perreault   \n",
       "1128  https://openalex.org/A5058723753  Olivier Bergeron-Boutin   \n",
       "1129  https://openalex.org/A5089504371           Saumya Bhadani   \n",
       "\n",
       "                                          works_api_url  h_index  works_count  \\\n",
       "0     https://api.openalex.org/works?filter=author.i...       12           25   \n",
       "1     https://api.openalex.org/works?filter=author.i...       32          167   \n",
       "2     https://api.openalex.org/works?filter=author.i...       16          125   \n",
       "3     https://api.openalex.org/works?filter=author.i...        2            3   \n",
       "4     https://api.openalex.org/works?filter=author.i...       11           48   \n",
       "...                                                 ...      ...          ...   \n",
       "1125  https://api.openalex.org/works?filter=author.i...       26          139   \n",
       "1126  https://api.openalex.org/works?filter=author.i...        1            1   \n",
       "1127  https://api.openalex.org/works?filter=author.i...        1            4   \n",
       "1128  https://api.openalex.org/works?filter=author.i...        3            7   \n",
       "1129  https://api.openalex.org/works?filter=author.i...        5            5   \n",
       "\n",
       "     country_code  \n",
       "0              FI  \n",
       "1              US  \n",
       "2              AE  \n",
       "3              US  \n",
       "4              CN  \n",
       "...           ...  \n",
       "1125           US  \n",
       "1126           AR  \n",
       "1127           US  \n",
       "1128           US  \n",
       "1129           US  \n",
       "\n",
       "[1130 rows x 6 columns]"
      ],
      "text/html": [
       "<div>\n",
       "<style scoped>\n",
       "    .dataframe tbody tr th:only-of-type {\n",
       "        vertical-align: middle;\n",
       "    }\n",
       "\n",
       "    .dataframe tbody tr th {\n",
       "        vertical-align: top;\n",
       "    }\n",
       "\n",
       "    .dataframe thead th {\n",
       "        text-align: right;\n",
       "    }\n",
       "</style>\n",
       "<table border=\"1\" class=\"dataframe\">\n",
       "  <thead>\n",
       "    <tr style=\"text-align: right;\">\n",
       "      <th></th>\n",
       "      <th>id</th>\n",
       "      <th>display_name</th>\n",
       "      <th>works_api_url</th>\n",
       "      <th>h_index</th>\n",
       "      <th>works_count</th>\n",
       "      <th>country_code</th>\n",
       "    </tr>\n",
       "  </thead>\n",
       "  <tbody>\n",
       "    <tr>\n",
       "      <th>0</th>\n",
       "      <td>https://openalex.org/A5101854927</td>\n",
       "      <td>Hazem Ibrahim</td>\n",
       "      <td>https://api.openalex.org/works?filter=author.i...</td>\n",
       "      <td>12</td>\n",
       "      <td>25</td>\n",
       "      <td>FI</td>\n",
       "    </tr>\n",
       "    <tr>\n",
       "      <th>1</th>\n",
       "      <td>https://openalex.org/A5007282319</td>\n",
       "      <td>Talal Rahwan</td>\n",
       "      <td>https://api.openalex.org/works?filter=author.i...</td>\n",
       "      <td>32</td>\n",
       "      <td>167</td>\n",
       "      <td>US</td>\n",
       "    </tr>\n",
       "    <tr>\n",
       "      <th>2</th>\n",
       "      <td>https://openalex.org/A5018129441</td>\n",
       "      <td>Yasir Zaki</td>\n",
       "      <td>https://api.openalex.org/works?filter=author.i...</td>\n",
       "      <td>16</td>\n",
       "      <td>125</td>\n",
       "      <td>AE</td>\n",
       "    </tr>\n",
       "    <tr>\n",
       "      <th>3</th>\n",
       "      <td>https://openalex.org/A5077466034</td>\n",
       "      <td>Vikram Balasubramanian</td>\n",
       "      <td>https://api.openalex.org/works?filter=author.i...</td>\n",
       "      <td>2</td>\n",
       "      <td>3</td>\n",
       "      <td>US</td>\n",
       "    </tr>\n",
       "    <tr>\n",
       "      <th>4</th>\n",
       "      <td>https://openalex.org/A5030255458</td>\n",
       "      <td>Guodong Ju</td>\n",
       "      <td>https://api.openalex.org/works?filter=author.i...</td>\n",
       "      <td>11</td>\n",
       "      <td>48</td>\n",
       "      <td>CN</td>\n",
       "    </tr>\n",
       "    <tr>\n",
       "      <th>...</th>\n",
       "      <td>...</td>\n",
       "      <td>...</td>\n",
       "      <td>...</td>\n",
       "      <td>...</td>\n",
       "      <td>...</td>\n",
       "      <td>...</td>\n",
       "    </tr>\n",
       "    <tr>\n",
       "      <th>1125</th>\n",
       "      <td>https://openalex.org/A5025218700</td>\n",
       "      <td>Amit Goldenberg</td>\n",
       "      <td>https://api.openalex.org/works?filter=author.i...</td>\n",
       "      <td>26</td>\n",
       "      <td>139</td>\n",
       "      <td>US</td>\n",
       "    </tr>\n",
       "    <tr>\n",
       "      <th>1126</th>\n",
       "      <td>https://openalex.org/A5061723972</td>\n",
       "      <td>Federico Zimmerman</td>\n",
       "      <td>https://api.openalex.org/works?filter=author.i...</td>\n",
       "      <td>1</td>\n",
       "      <td>1</td>\n",
       "      <td>AR</td>\n",
       "    </tr>\n",
       "    <tr>\n",
       "      <th>1127</th>\n",
       "      <td>https://openalex.org/A5092145709</td>\n",
       "      <td>Brooke Perreault</td>\n",
       "      <td>https://api.openalex.org/works?filter=author.i...</td>\n",
       "      <td>1</td>\n",
       "      <td>4</td>\n",
       "      <td>US</td>\n",
       "    </tr>\n",
       "    <tr>\n",
       "      <th>1128</th>\n",
       "      <td>https://openalex.org/A5058723753</td>\n",
       "      <td>Olivier Bergeron-Boutin</td>\n",
       "      <td>https://api.openalex.org/works?filter=author.i...</td>\n",
       "      <td>3</td>\n",
       "      <td>7</td>\n",
       "      <td>US</td>\n",
       "    </tr>\n",
       "    <tr>\n",
       "      <th>1129</th>\n",
       "      <td>https://openalex.org/A5089504371</td>\n",
       "      <td>Saumya Bhadani</td>\n",
       "      <td>https://api.openalex.org/works?filter=author.i...</td>\n",
       "      <td>5</td>\n",
       "      <td>5</td>\n",
       "      <td>US</td>\n",
       "    </tr>\n",
       "  </tbody>\n",
       "</table>\n",
       "<p>1130 rows × 6 columns</p>\n",
       "</div>"
      ]
     },
     "execution_count": 6,
     "metadata": {},
     "output_type": "execute_result"
    }
   ],
   "execution_count": 6
  },
  {
   "cell_type": "markdown",
   "metadata": {},
   "source": [
    "This is all the authors from IC2S2 2024.\n",
    "\n",
    "We then batch the authors and groups of 25 to make the code run faster:"
   ]
  },
  {
   "cell_type": "code",
   "metadata": {
    "ExecuteTime": {
     "end_time": "2025-03-04T22:06:19.481695Z",
     "start_time": "2025-03-04T22:06:19.458028Z"
    }
   },
   "source": [
    "# Split authors into batches. Each batch contains 25 authors\n",
    "author_batches = np.array_split(authors, len(authors) // 25)\n",
    "author_batches[0]"
   ],
   "outputs": [
    {
     "name": "stderr",
     "output_type": "stream",
     "text": [
      "C:\\Users\\marcu\\Documents\\Computational social science\\venv\\Lib\\site-packages\\numpy\\_core\\fromnumeric.py:57: FutureWarning: 'DataFrame.swapaxes' is deprecated and will be removed in a future version. Please use 'DataFrame.transpose' instead.\n",
      "  return bound(*args, **kwds)\n"
     ]
    },
    {
     "data": {
      "text/plain": [
       "                                  id            display_name  \\\n",
       "0   https://openalex.org/A5101854927           Hazem Ibrahim   \n",
       "1   https://openalex.org/A5007282319            Talal Rahwan   \n",
       "2   https://openalex.org/A5018129441              Yasir Zaki   \n",
       "3   https://openalex.org/A5077466034  Vikram Balasubramanian   \n",
       "4   https://openalex.org/A5030255458              Guodong Ju   \n",
       "5   https://openalex.org/A5103042494             John Duncan   \n",
       "6   https://openalex.org/A5102845677          Kenji Yokotani   \n",
       "7   https://openalex.org/A5011732280         Masanori Takano   \n",
       "8   https://openalex.org/A5074372343            Nobuhito Abe   \n",
       "9   https://openalex.org/A5081816161     Saran Tenzin Tamang   \n",
       "10  https://openalex.org/A5040192490            Arianna Pera   \n",
       "11  https://openalex.org/A5034406723       Luca Maria Aiello   \n",
       "12  https://openalex.org/A5001523273    Lynnette Hui Xian Ng   \n",
       "13  https://openalex.org/A5077347349   Jennifer M. Krebsbach   \n",
       "14  https://openalex.org/A5035201433                Ting Luo   \n",
       "15  https://openalex.org/A5100322712                Yan Wang   \n",
       "16  https://openalex.org/A5101984121          Xiangqian Shen   \n",
       "17  https://openalex.org/A5019917525          Xiaomeng Xiong   \n",
       "18  https://openalex.org/A5102318346              Xueyan Gao   \n",
       "19  https://openalex.org/A5049693274       Masahiro Kuwahara   \n",
       "20  https://openalex.org/A5043268072         Yukihisa Fujita   \n",
       "21  https://openalex.org/A5048880362              Tianji Cai   \n",
       "22  https://openalex.org/A5007176508           Alex Pentland   \n",
       "23  https://openalex.org/A5029104172         Alex Rutherford   \n",
       "24  https://openalex.org/A5088539840            Esteban Moro   \n",
       "25  https://openalex.org/A5009232244             Iyad Rahwan   \n",
       "\n",
       "                                        works_api_url  h_index  works_count  \\\n",
       "0   https://api.openalex.org/works?filter=author.i...       12           25   \n",
       "1   https://api.openalex.org/works?filter=author.i...       32          167   \n",
       "2   https://api.openalex.org/works?filter=author.i...       16          125   \n",
       "3   https://api.openalex.org/works?filter=author.i...        2            3   \n",
       "4   https://api.openalex.org/works?filter=author.i...       11           48   \n",
       "5   https://api.openalex.org/works?filter=author.i...       41          157   \n",
       "6   https://api.openalex.org/works?filter=author.i...        6           30   \n",
       "7   https://api.openalex.org/works?filter=author.i...        8           70   \n",
       "8   https://api.openalex.org/works?filter=author.i...       27          137   \n",
       "9   https://api.openalex.org/works?filter=author.i...        6           17   \n",
       "10  https://api.openalex.org/works?filter=author.i...        2            7   \n",
       "11  https://api.openalex.org/works?filter=author.i...       36          226   \n",
       "12  https://api.openalex.org/works?filter=author.i...       11           94   \n",
       "13  https://api.openalex.org/works?filter=author.i...        2           19   \n",
       "14  https://api.openalex.org/works?filter=author.i...       30          228   \n",
       "15  https://api.openalex.org/works?filter=author.i...       69         1832   \n",
       "16  https://api.openalex.org/works?filter=author.i...       53          302   \n",
       "17  https://api.openalex.org/works?filter=author.i...        0            2   \n",
       "18  https://api.openalex.org/works?filter=author.i...       11           46   \n",
       "19  https://api.openalex.org/works?filter=author.i...        6           41   \n",
       "20  https://api.openalex.org/works?filter=author.i...       18           70   \n",
       "21  https://api.openalex.org/works?filter=author.i...       17           74   \n",
       "22  https://api.openalex.org/works?filter=author.i...      122         1033   \n",
       "23  https://api.openalex.org/works?filter=author.i...       13           53   \n",
       "24  https://api.openalex.org/works?filter=author.i...       37          182   \n",
       "25  https://api.openalex.org/works?filter=author.i...       44          332   \n",
       "\n",
       "   country_code  \n",
       "0            FI  \n",
       "1            US  \n",
       "2            AE  \n",
       "3            US  \n",
       "4            CN  \n",
       "5            GB  \n",
       "6            JP  \n",
       "7            JP  \n",
       "8            JP  \n",
       "9           NaN  \n",
       "10           DK  \n",
       "11           IT  \n",
       "12           US  \n",
       "13           US  \n",
       "14           CN  \n",
       "15           CN  \n",
       "16           CN  \n",
       "17           CN  \n",
       "18           CN  \n",
       "19           JP  \n",
       "20           JP  \n",
       "21           MO  \n",
       "22           US  \n",
       "23           DE  \n",
       "24           US  \n",
       "25           DE  "
      ],
      "text/html": [
       "<div>\n",
       "<style scoped>\n",
       "    .dataframe tbody tr th:only-of-type {\n",
       "        vertical-align: middle;\n",
       "    }\n",
       "\n",
       "    .dataframe tbody tr th {\n",
       "        vertical-align: top;\n",
       "    }\n",
       "\n",
       "    .dataframe thead th {\n",
       "        text-align: right;\n",
       "    }\n",
       "</style>\n",
       "<table border=\"1\" class=\"dataframe\">\n",
       "  <thead>\n",
       "    <tr style=\"text-align: right;\">\n",
       "      <th></th>\n",
       "      <th>id</th>\n",
       "      <th>display_name</th>\n",
       "      <th>works_api_url</th>\n",
       "      <th>h_index</th>\n",
       "      <th>works_count</th>\n",
       "      <th>country_code</th>\n",
       "    </tr>\n",
       "  </thead>\n",
       "  <tbody>\n",
       "    <tr>\n",
       "      <th>0</th>\n",
       "      <td>https://openalex.org/A5101854927</td>\n",
       "      <td>Hazem Ibrahim</td>\n",
       "      <td>https://api.openalex.org/works?filter=author.i...</td>\n",
       "      <td>12</td>\n",
       "      <td>25</td>\n",
       "      <td>FI</td>\n",
       "    </tr>\n",
       "    <tr>\n",
       "      <th>1</th>\n",
       "      <td>https://openalex.org/A5007282319</td>\n",
       "      <td>Talal Rahwan</td>\n",
       "      <td>https://api.openalex.org/works?filter=author.i...</td>\n",
       "      <td>32</td>\n",
       "      <td>167</td>\n",
       "      <td>US</td>\n",
       "    </tr>\n",
       "    <tr>\n",
       "      <th>2</th>\n",
       "      <td>https://openalex.org/A5018129441</td>\n",
       "      <td>Yasir Zaki</td>\n",
       "      <td>https://api.openalex.org/works?filter=author.i...</td>\n",
       "      <td>16</td>\n",
       "      <td>125</td>\n",
       "      <td>AE</td>\n",
       "    </tr>\n",
       "    <tr>\n",
       "      <th>3</th>\n",
       "      <td>https://openalex.org/A5077466034</td>\n",
       "      <td>Vikram Balasubramanian</td>\n",
       "      <td>https://api.openalex.org/works?filter=author.i...</td>\n",
       "      <td>2</td>\n",
       "      <td>3</td>\n",
       "      <td>US</td>\n",
       "    </tr>\n",
       "    <tr>\n",
       "      <th>4</th>\n",
       "      <td>https://openalex.org/A5030255458</td>\n",
       "      <td>Guodong Ju</td>\n",
       "      <td>https://api.openalex.org/works?filter=author.i...</td>\n",
       "      <td>11</td>\n",
       "      <td>48</td>\n",
       "      <td>CN</td>\n",
       "    </tr>\n",
       "    <tr>\n",
       "      <th>5</th>\n",
       "      <td>https://openalex.org/A5103042494</td>\n",
       "      <td>John Duncan</td>\n",
       "      <td>https://api.openalex.org/works?filter=author.i...</td>\n",
       "      <td>41</td>\n",
       "      <td>157</td>\n",
       "      <td>GB</td>\n",
       "    </tr>\n",
       "    <tr>\n",
       "      <th>6</th>\n",
       "      <td>https://openalex.org/A5102845677</td>\n",
       "      <td>Kenji Yokotani</td>\n",
       "      <td>https://api.openalex.org/works?filter=author.i...</td>\n",
       "      <td>6</td>\n",
       "      <td>30</td>\n",
       "      <td>JP</td>\n",
       "    </tr>\n",
       "    <tr>\n",
       "      <th>7</th>\n",
       "      <td>https://openalex.org/A5011732280</td>\n",
       "      <td>Masanori Takano</td>\n",
       "      <td>https://api.openalex.org/works?filter=author.i...</td>\n",
       "      <td>8</td>\n",
       "      <td>70</td>\n",
       "      <td>JP</td>\n",
       "    </tr>\n",
       "    <tr>\n",
       "      <th>8</th>\n",
       "      <td>https://openalex.org/A5074372343</td>\n",
       "      <td>Nobuhito Abe</td>\n",
       "      <td>https://api.openalex.org/works?filter=author.i...</td>\n",
       "      <td>27</td>\n",
       "      <td>137</td>\n",
       "      <td>JP</td>\n",
       "    </tr>\n",
       "    <tr>\n",
       "      <th>9</th>\n",
       "      <td>https://openalex.org/A5081816161</td>\n",
       "      <td>Saran Tenzin Tamang</td>\n",
       "      <td>https://api.openalex.org/works?filter=author.i...</td>\n",
       "      <td>6</td>\n",
       "      <td>17</td>\n",
       "      <td>NaN</td>\n",
       "    </tr>\n",
       "    <tr>\n",
       "      <th>10</th>\n",
       "      <td>https://openalex.org/A5040192490</td>\n",
       "      <td>Arianna Pera</td>\n",
       "      <td>https://api.openalex.org/works?filter=author.i...</td>\n",
       "      <td>2</td>\n",
       "      <td>7</td>\n",
       "      <td>DK</td>\n",
       "    </tr>\n",
       "    <tr>\n",
       "      <th>11</th>\n",
       "      <td>https://openalex.org/A5034406723</td>\n",
       "      <td>Luca Maria Aiello</td>\n",
       "      <td>https://api.openalex.org/works?filter=author.i...</td>\n",
       "      <td>36</td>\n",
       "      <td>226</td>\n",
       "      <td>IT</td>\n",
       "    </tr>\n",
       "    <tr>\n",
       "      <th>12</th>\n",
       "      <td>https://openalex.org/A5001523273</td>\n",
       "      <td>Lynnette Hui Xian Ng</td>\n",
       "      <td>https://api.openalex.org/works?filter=author.i...</td>\n",
       "      <td>11</td>\n",
       "      <td>94</td>\n",
       "      <td>US</td>\n",
       "    </tr>\n",
       "    <tr>\n",
       "      <th>13</th>\n",
       "      <td>https://openalex.org/A5077347349</td>\n",
       "      <td>Jennifer M. Krebsbach</td>\n",
       "      <td>https://api.openalex.org/works?filter=author.i...</td>\n",
       "      <td>2</td>\n",
       "      <td>19</td>\n",
       "      <td>US</td>\n",
       "    </tr>\n",
       "    <tr>\n",
       "      <th>14</th>\n",
       "      <td>https://openalex.org/A5035201433</td>\n",
       "      <td>Ting Luo</td>\n",
       "      <td>https://api.openalex.org/works?filter=author.i...</td>\n",
       "      <td>30</td>\n",
       "      <td>228</td>\n",
       "      <td>CN</td>\n",
       "    </tr>\n",
       "    <tr>\n",
       "      <th>15</th>\n",
       "      <td>https://openalex.org/A5100322712</td>\n",
       "      <td>Yan Wang</td>\n",
       "      <td>https://api.openalex.org/works?filter=author.i...</td>\n",
       "      <td>69</td>\n",
       "      <td>1832</td>\n",
       "      <td>CN</td>\n",
       "    </tr>\n",
       "    <tr>\n",
       "      <th>16</th>\n",
       "      <td>https://openalex.org/A5101984121</td>\n",
       "      <td>Xiangqian Shen</td>\n",
       "      <td>https://api.openalex.org/works?filter=author.i...</td>\n",
       "      <td>53</td>\n",
       "      <td>302</td>\n",
       "      <td>CN</td>\n",
       "    </tr>\n",
       "    <tr>\n",
       "      <th>17</th>\n",
       "      <td>https://openalex.org/A5019917525</td>\n",
       "      <td>Xiaomeng Xiong</td>\n",
       "      <td>https://api.openalex.org/works?filter=author.i...</td>\n",
       "      <td>0</td>\n",
       "      <td>2</td>\n",
       "      <td>CN</td>\n",
       "    </tr>\n",
       "    <tr>\n",
       "      <th>18</th>\n",
       "      <td>https://openalex.org/A5102318346</td>\n",
       "      <td>Xueyan Gao</td>\n",
       "      <td>https://api.openalex.org/works?filter=author.i...</td>\n",
       "      <td>11</td>\n",
       "      <td>46</td>\n",
       "      <td>CN</td>\n",
       "    </tr>\n",
       "    <tr>\n",
       "      <th>19</th>\n",
       "      <td>https://openalex.org/A5049693274</td>\n",
       "      <td>Masahiro Kuwahara</td>\n",
       "      <td>https://api.openalex.org/works?filter=author.i...</td>\n",
       "      <td>6</td>\n",
       "      <td>41</td>\n",
       "      <td>JP</td>\n",
       "    </tr>\n",
       "    <tr>\n",
       "      <th>20</th>\n",
       "      <td>https://openalex.org/A5043268072</td>\n",
       "      <td>Yukihisa Fujita</td>\n",
       "      <td>https://api.openalex.org/works?filter=author.i...</td>\n",
       "      <td>18</td>\n",
       "      <td>70</td>\n",
       "      <td>JP</td>\n",
       "    </tr>\n",
       "    <tr>\n",
       "      <th>21</th>\n",
       "      <td>https://openalex.org/A5048880362</td>\n",
       "      <td>Tianji Cai</td>\n",
       "      <td>https://api.openalex.org/works?filter=author.i...</td>\n",
       "      <td>17</td>\n",
       "      <td>74</td>\n",
       "      <td>MO</td>\n",
       "    </tr>\n",
       "    <tr>\n",
       "      <th>22</th>\n",
       "      <td>https://openalex.org/A5007176508</td>\n",
       "      <td>Alex Pentland</td>\n",
       "      <td>https://api.openalex.org/works?filter=author.i...</td>\n",
       "      <td>122</td>\n",
       "      <td>1033</td>\n",
       "      <td>US</td>\n",
       "    </tr>\n",
       "    <tr>\n",
       "      <th>23</th>\n",
       "      <td>https://openalex.org/A5029104172</td>\n",
       "      <td>Alex Rutherford</td>\n",
       "      <td>https://api.openalex.org/works?filter=author.i...</td>\n",
       "      <td>13</td>\n",
       "      <td>53</td>\n",
       "      <td>DE</td>\n",
       "    </tr>\n",
       "    <tr>\n",
       "      <th>24</th>\n",
       "      <td>https://openalex.org/A5088539840</td>\n",
       "      <td>Esteban Moro</td>\n",
       "      <td>https://api.openalex.org/works?filter=author.i...</td>\n",
       "      <td>37</td>\n",
       "      <td>182</td>\n",
       "      <td>US</td>\n",
       "    </tr>\n",
       "    <tr>\n",
       "      <th>25</th>\n",
       "      <td>https://openalex.org/A5009232244</td>\n",
       "      <td>Iyad Rahwan</td>\n",
       "      <td>https://api.openalex.org/works?filter=author.i...</td>\n",
       "      <td>44</td>\n",
       "      <td>332</td>\n",
       "      <td>DE</td>\n",
       "    </tr>\n",
       "  </tbody>\n",
       "</table>\n",
       "</div>"
      ]
     },
     "execution_count": 7,
     "metadata": {},
     "output_type": "execute_result"
    }
   ],
   "execution_count": 7
  },
  {
   "cell_type": "code",
   "metadata": {
    "ExecuteTime": {
     "end_time": "2025-03-04T22:06:19.630370Z",
     "start_time": "2025-03-04T22:06:19.625564Z"
    }
   },
   "source": [
    "# Define DataFrame column names\n",
    "paper_col = ['id', 'publication_year', 'cited_by_count', 'author_ids']\n",
    "abstract_col = ['id', 'title', 'abstract_inverted_index']\n",
    "\n",
    "# Global API source and filter Concepts dictionaries\n",
    "source = 'https://api.openalex.org/works'\n",
    "concepts_1 = {\n",
    "    'Computer science': 'https://openalex.org/C41008148',\n",
    "    'Physics': 'https://openalex.org/C121332964',\n",
    "    'Mathematics': 'https://openalex.org/C33923547',\n",
    "}\n",
    "concepts_2 = {\n",
    "    'Psychology': 'https://openalex.org/C15744967',\n",
    "    'Sociology': 'https://openalex.org/C144024400',\n",
    "    'Economics': 'https://openalex.org/C162324750',\n",
    "    'Political science': 'https://openalex.org/C17744445',\n",
    "}"
   ],
   "outputs": [],
   "execution_count": 8
  },
  {
   "cell_type": "markdown",
   "metadata": {},
   "source": [
    "We then define a function that calls the api on a batch in order to make the code work in parallel."
   ]
  },
  {
   "cell_type": "code",
   "metadata": {
    "ExecuteTime": {
     "end_time": "2025-03-04T22:06:19.799296Z",
     "start_time": "2025-03-04T22:06:19.788359Z"
    }
   },
   "source": [
    "def process_batch(author_batch, batch_index):\n",
    "    \"\"\"\n",
    "    Process a single batch of authors by iterating over API pages,\n",
    "    applying retry logic, and collecting papers and abstracts.\n",
    "    :param author_batch: Dictionary containing batch of authors. The batch works on a maximum of 25 authors.\n",
    "    :param batch_index: The index of the batch to be processed.\n",
    "    :return: Two lists of papers and abstracts data.\n",
    "    \"\"\"\n",
    "\n",
    "    local_session = requests.Session()  # create a local session for the thread\n",
    "    local_papers_data = []\n",
    "    local_abstracts_data = []\n",
    "    page = 1\n",
    "\n",
    "    while True:\n",
    "        tries = 0\n",
    "        results = None\n",
    "        # Retry loop for API request\n",
    "        while tries < 10:\n",
    "            try:\n",
    "                # Joining author ids to bulk the request\n",
    "                author_ids_str = '|'.join(author_batch['id'])\n",
    "                url = (\n",
    "                    f\"{source}?filter=author.id:{author_ids_str},\"\n",
    "                    f\"cited_by_count:>10,authors_count:<10,\"\n",
    "                    f\"concepts.id:{'|'.join(concepts_1.values())},\"\n",
    "                    f\"concepts.id:{'|'.join(concepts_2.values())}\"\n",
    "                )\n",
    "                response = local_session.get(url, params={'per_page': 200, 'page': page})\n",
    "                results = response.json()['results']\n",
    "                break  # exit retry loop on success\n",
    "            except (JSONDecodeError, requests.exceptions.RequestException) as e:\n",
    "                tries += 1\n",
    "                sleep(0.1)\n",
    "\n",
    "        # If no results are returned, exit the paging loop\n",
    "        if not results:\n",
    "            break\n",
    "\n",
    "        # Process each paper in the current page\n",
    "        for paper in results:\n",
    "            paper_id = paper['id']\n",
    "            publication_year = paper['publication_year']\n",
    "            cited_by_count = paper['cited_by_count']\n",
    "            # Extract author IDs from the authorships list\n",
    "            author_ids = \";\".join(sub_author['author']['id'] for sub_author in paper['authorships'])\n",
    "            local_papers_data.append([paper_id, publication_year, cited_by_count, author_ids])\n",
    "\n",
    "            title = paper['title']\n",
    "            abstract_index = paper['abstract_inverted_index']\n",
    "            local_abstracts_data.append([paper_id, title, abstract_index])\n",
    "\n",
    "        page += 1\n",
    "\n",
    "    print(f\"Completed batch {batch_index}\")\n",
    "    return local_papers_data, local_abstracts_data"
   ],
   "outputs": [],
   "execution_count": 9
  },
  {
   "cell_type": "markdown",
   "metadata": {},
   "source": [
    "We then multithread all of the batches:"
   ]
  },
  {
   "cell_type": "code",
   "metadata": {
    "ExecuteTime": {
     "end_time": "2025-03-04T22:07:52.510039Z",
     "start_time": "2025-03-04T22:07:39.586496Z"
    }
   },
   "source": [
    "# Multi-threaded execution using ThreadPoolExecutor\n",
    "all_papers_data = []\n",
    "all_abstracts_data = []\n",
    "\n",
    "# A maximum of 10 threads work at a time\n",
    "with ThreadPoolExecutor(max_workers=10) as executor:\n",
    "    future_to_batch = {\n",
    "        executor.submit(process_batch, batch, idx): idx\n",
    "        for idx, batch in enumerate(author_batches)\n",
    "    }\n",
    "    # As each future completes, combine its results\n",
    "    for future in as_completed(future_to_batch):\n",
    "        try:\n",
    "            papers_data, abstracts_data = future.result()\n",
    "            all_papers_data.extend(papers_data)\n",
    "            all_abstracts_data.extend(abstracts_data)\n",
    "        except Exception as exc:\n",
    "            batch_index = future_to_batch[future]\n",
    "            print(f\"Batch {batch_index} generated an exception: {exc}\")"
   ],
   "outputs": [
    {
     "name": "stdout",
     "output_type": "stream",
     "text": [
      "Completed batch 9\n",
      "Completed batch 6\n",
      "Completed batch 1\n",
      "Completed batch 3\n",
      "Completed batch 2\n",
      "Completed batch 4\n",
      "Completed batch 7\n",
      "Completed batch 11\n",
      "Completed batch 8\n",
      "Completed batch 10\n",
      "Completed batch 13\n",
      "Completed batch 0\n",
      "Completed batch 14\n",
      "Completed batch 5\n",
      "Completed batch 16\n",
      "Completed batch 12\n",
      "Completed batch 15\n",
      "Completed batch 20\n",
      "Completed batch 23\n",
      "Completed batch 17\n",
      "Completed batch 18\n",
      "Completed batch 22\n",
      "Completed batch 21\n",
      "Completed batch 25\n",
      "Completed batch 19\n",
      "Completed batch 24\n",
      "Completed batch 30\n",
      "Completed batch 32\n",
      "Completed batch 31\n",
      "Completed batch 26\n",
      "Completed batch 29\n",
      "Completed batch 28\n",
      "Completed batch 33\n",
      "Completed batch 35\n",
      "Completed batch 27\n",
      "Completed batch 38\n",
      "Completed batch 34\n",
      "Completed batch 36\n",
      "Completed batch 37\n",
      "Completed batch 42\n",
      "Completed batch 39\n",
      "Completed batch 41\n",
      "Completed batch 43\n",
      "Completed batch 40\n",
      "Completed batch 44\n"
     ]
    }
   ],
   "execution_count": 31
  },
  {
   "cell_type": "code",
   "metadata": {
    "ExecuteTime": {
     "end_time": "2025-03-04T22:08:07.948332Z",
     "start_time": "2025-03-04T22:08:07.910601Z"
    }
   },
   "source": [
    "# Convert the collected data into DataFrames\n",
    "papers = pd.DataFrame(all_papers_data, columns=paper_col)\n",
    "abstracts = pd.DataFrame(all_abstracts_data, columns=abstract_col)"
   ],
   "outputs": [],
   "execution_count": 32
  },
  {
   "cell_type": "markdown",
   "metadata": {},
   "source": [
    "We can just do a sanity check and check that each DataFram are the same length"
   ]
  },
  {
   "cell_type": "code",
   "metadata": {
    "ExecuteTime": {
     "end_time": "2025-03-04T22:08:11.930503Z",
     "start_time": "2025-03-04T22:08:11.925775Z"
    }
   },
   "source": [
    "# Check length of papers and abstracts DataFrames\n",
    "print(len(papers), len(abstracts))"
   ],
   "outputs": [
    {
     "name": "stdout",
     "output_type": "stream",
     "text": [
      "12439 12439\n"
     ]
    }
   ],
   "execution_count": 33
  },
  {
   "cell_type": "markdown",
   "metadata": {},
   "source": [
    "We can then save the DataFrames"
   ]
  },
  {
   "cell_type": "code",
   "metadata": {
    "ExecuteTime": {
     "end_time": "2025-03-04T22:08:15.771594Z",
     "start_time": "2025-03-04T22:08:15.698174Z"
    }
   },
   "source": [
    "# Drop duplicates and save to csv\n",
    "papers = papers.drop_duplicates(['id'], ignore_index=True)\n",
    "papers.to_csv('Works/IC2S2_papers.csv', index=False)\n",
    "papers"
   ],
   "outputs": [
    {
     "data": {
      "text/plain": [
       "                                     id  publication_year  cited_by_count  \\\n",
       "0      https://openalex.org/W1965631677              2007            3273   \n",
       "1      https://openalex.org/W2136968651              2005            1829   \n",
       "2      https://openalex.org/W2104834906              2014            1697   \n",
       "3      https://openalex.org/W2066752129              2013            1157   \n",
       "4      https://openalex.org/W2122465344              2003            1049   \n",
       "...                                 ...               ...             ...   \n",
       "11344  https://openalex.org/W1490505863              1986              11   \n",
       "11345  https://openalex.org/W1546346013              1988              11   \n",
       "11346  https://openalex.org/W1585825907              1988              11   \n",
       "11347  https://openalex.org/W2076461592              1993              12   \n",
       "11348  https://openalex.org/W3122913636              1991              11   \n",
       "\n",
       "                                              author_ids  \n",
       "0      https://openalex.org/A5076755077;https://opena...  \n",
       "1      https://openalex.org/A5015711710;https://opena...  \n",
       "2      https://openalex.org/A5078758511;https://opena...  \n",
       "3      https://openalex.org/A5015711710;https://opena...  \n",
       "4      https://openalex.org/A5015711710;https://opena...  \n",
       "...                                                  ...  \n",
       "11344                   https://openalex.org/A5079825006  \n",
       "11345  https://openalex.org/A5038255653;https://opena...  \n",
       "11346                   https://openalex.org/A5079825006  \n",
       "11347  https://openalex.org/A5100398118;https://opena...  \n",
       "11348  https://openalex.org/A5038255653;https://opena...  \n",
       "\n",
       "[11349 rows x 4 columns]"
      ],
      "text/html": [
       "<div>\n",
       "<style scoped>\n",
       "    .dataframe tbody tr th:only-of-type {\n",
       "        vertical-align: middle;\n",
       "    }\n",
       "\n",
       "    .dataframe tbody tr th {\n",
       "        vertical-align: top;\n",
       "    }\n",
       "\n",
       "    .dataframe thead th {\n",
       "        text-align: right;\n",
       "    }\n",
       "</style>\n",
       "<table border=\"1\" class=\"dataframe\">\n",
       "  <thead>\n",
       "    <tr style=\"text-align: right;\">\n",
       "      <th></th>\n",
       "      <th>id</th>\n",
       "      <th>publication_year</th>\n",
       "      <th>cited_by_count</th>\n",
       "      <th>author_ids</th>\n",
       "    </tr>\n",
       "  </thead>\n",
       "  <tbody>\n",
       "    <tr>\n",
       "      <th>0</th>\n",
       "      <td>https://openalex.org/W1965631677</td>\n",
       "      <td>2007</td>\n",
       "      <td>3273</td>\n",
       "      <td>https://openalex.org/A5076755077;https://opena...</td>\n",
       "    </tr>\n",
       "    <tr>\n",
       "      <th>1</th>\n",
       "      <td>https://openalex.org/W2136968651</td>\n",
       "      <td>2005</td>\n",
       "      <td>1829</td>\n",
       "      <td>https://openalex.org/A5015711710;https://opena...</td>\n",
       "    </tr>\n",
       "    <tr>\n",
       "      <th>2</th>\n",
       "      <td>https://openalex.org/W2104834906</td>\n",
       "      <td>2014</td>\n",
       "      <td>1697</td>\n",
       "      <td>https://openalex.org/A5078758511;https://opena...</td>\n",
       "    </tr>\n",
       "    <tr>\n",
       "      <th>3</th>\n",
       "      <td>https://openalex.org/W2066752129</td>\n",
       "      <td>2013</td>\n",
       "      <td>1157</td>\n",
       "      <td>https://openalex.org/A5015711710;https://opena...</td>\n",
       "    </tr>\n",
       "    <tr>\n",
       "      <th>4</th>\n",
       "      <td>https://openalex.org/W2122465344</td>\n",
       "      <td>2003</td>\n",
       "      <td>1049</td>\n",
       "      <td>https://openalex.org/A5015711710;https://opena...</td>\n",
       "    </tr>\n",
       "    <tr>\n",
       "      <th>...</th>\n",
       "      <td>...</td>\n",
       "      <td>...</td>\n",
       "      <td>...</td>\n",
       "      <td>...</td>\n",
       "    </tr>\n",
       "    <tr>\n",
       "      <th>11344</th>\n",
       "      <td>https://openalex.org/W1490505863</td>\n",
       "      <td>1986</td>\n",
       "      <td>11</td>\n",
       "      <td>https://openalex.org/A5079825006</td>\n",
       "    </tr>\n",
       "    <tr>\n",
       "      <th>11345</th>\n",
       "      <td>https://openalex.org/W1546346013</td>\n",
       "      <td>1988</td>\n",
       "      <td>11</td>\n",
       "      <td>https://openalex.org/A5038255653;https://opena...</td>\n",
       "    </tr>\n",
       "    <tr>\n",
       "      <th>11346</th>\n",
       "      <td>https://openalex.org/W1585825907</td>\n",
       "      <td>1988</td>\n",
       "      <td>11</td>\n",
       "      <td>https://openalex.org/A5079825006</td>\n",
       "    </tr>\n",
       "    <tr>\n",
       "      <th>11347</th>\n",
       "      <td>https://openalex.org/W2076461592</td>\n",
       "      <td>1993</td>\n",
       "      <td>12</td>\n",
       "      <td>https://openalex.org/A5100398118;https://opena...</td>\n",
       "    </tr>\n",
       "    <tr>\n",
       "      <th>11348</th>\n",
       "      <td>https://openalex.org/W3122913636</td>\n",
       "      <td>1991</td>\n",
       "      <td>11</td>\n",
       "      <td>https://openalex.org/A5038255653;https://opena...</td>\n",
       "    </tr>\n",
       "  </tbody>\n",
       "</table>\n",
       "<p>11349 rows × 4 columns</p>\n",
       "</div>"
      ]
     },
     "execution_count": 34,
     "metadata": {},
     "output_type": "execute_result"
    }
   ],
   "execution_count": 34
  },
  {
   "cell_type": "code",
   "metadata": {
    "ExecuteTime": {
     "end_time": "2025-03-04T22:08:25.005290Z",
     "start_time": "2025-03-04T22:08:24.021015Z"
    }
   },
   "source": [
    "# Drop duplicates and save to csv\n",
    "abstracts = abstracts.drop_duplicates(['id'], ignore_index=True)\n",
    "abstracts.to_csv('Works/IC2S2_abstracts.csv', index=False)\n",
    "abstracts"
   ],
   "outputs": [
    {
     "data": {
      "text/plain": [
       "                                     id  \\\n",
       "0      https://openalex.org/W1965631677   \n",
       "1      https://openalex.org/W2136968651   \n",
       "2      https://openalex.org/W2104834906   \n",
       "3      https://openalex.org/W2066752129   \n",
       "4      https://openalex.org/W2122465344   \n",
       "...                                 ...   \n",
       "11344  https://openalex.org/W1490505863   \n",
       "11345  https://openalex.org/W1546346013   \n",
       "11346  https://openalex.org/W1585825907   \n",
       "11347  https://openalex.org/W2076461592   \n",
       "11348  https://openalex.org/W3122913636   \n",
       "\n",
       "                                                   title  \\\n",
       "0      The Increasing Dominance of Teams in Productio...   \n",
       "1      Collaboration and Creativity: The Small World ...   \n",
       "2      What Do We Learn from the Weather? The New Cli...   \n",
       "3            Atypical Combinations and Scientific Impact   \n",
       "4      Relational Embeddedness and Learning: The Case...   \n",
       "...                                                  ...   \n",
       "11344  A formal model of organizational structure and...   \n",
       "11345  Markets, hierarchies and the impact of informa...   \n",
       "11346  Modeling coordination in organizations and mar...   \n",
       "11347  Performance of dynamic rate leaky bucket algor...   \n",
       "11348  Does Information Technology Lead to Smaller Firms   \n",
       "\n",
       "                                 abstract_inverted_index  \n",
       "0      {'We': [0], 'have': [1], 'used': [2], '19.9': ...  \n",
       "1      {'Small': [0], 'world': [1, 23, 81], 'networks...  \n",
       "2      {'A': [0], 'rapidly': [1], 'growing': [2], 'bo...  \n",
       "3      {'Novelty': [0], 'is': [1, 61], 'an': [2, 74],...  \n",
       "4      {'As': [0], 'a': [1, 15, 122, 153], 'complemen...  \n",
       "...                                                  ...  \n",
       "11344                                               None  \n",
       "11345                                               None  \n",
       "11346  {'This': [0, 53], 'paper': [1], 'describes': [...  \n",
       "11347  {'A': [0], 'new': [1], 'input': [2], 'rate': [...  \n",
       "11348  {'Among': [0], 'the': [1, 6, 11, 14, 17, 39, 4...  \n",
       "\n",
       "[11349 rows x 3 columns]"
      ],
      "text/html": [
       "<div>\n",
       "<style scoped>\n",
       "    .dataframe tbody tr th:only-of-type {\n",
       "        vertical-align: middle;\n",
       "    }\n",
       "\n",
       "    .dataframe tbody tr th {\n",
       "        vertical-align: top;\n",
       "    }\n",
       "\n",
       "    .dataframe thead th {\n",
       "        text-align: right;\n",
       "    }\n",
       "</style>\n",
       "<table border=\"1\" class=\"dataframe\">\n",
       "  <thead>\n",
       "    <tr style=\"text-align: right;\">\n",
       "      <th></th>\n",
       "      <th>id</th>\n",
       "      <th>title</th>\n",
       "      <th>abstract_inverted_index</th>\n",
       "    </tr>\n",
       "  </thead>\n",
       "  <tbody>\n",
       "    <tr>\n",
       "      <th>0</th>\n",
       "      <td>https://openalex.org/W1965631677</td>\n",
       "      <td>The Increasing Dominance of Teams in Productio...</td>\n",
       "      <td>{'We': [0], 'have': [1], 'used': [2], '19.9': ...</td>\n",
       "    </tr>\n",
       "    <tr>\n",
       "      <th>1</th>\n",
       "      <td>https://openalex.org/W2136968651</td>\n",
       "      <td>Collaboration and Creativity: The Small World ...</td>\n",
       "      <td>{'Small': [0], 'world': [1, 23, 81], 'networks...</td>\n",
       "    </tr>\n",
       "    <tr>\n",
       "      <th>2</th>\n",
       "      <td>https://openalex.org/W2104834906</td>\n",
       "      <td>What Do We Learn from the Weather? The New Cli...</td>\n",
       "      <td>{'A': [0], 'rapidly': [1], 'growing': [2], 'bo...</td>\n",
       "    </tr>\n",
       "    <tr>\n",
       "      <th>3</th>\n",
       "      <td>https://openalex.org/W2066752129</td>\n",
       "      <td>Atypical Combinations and Scientific Impact</td>\n",
       "      <td>{'Novelty': [0], 'is': [1, 61], 'an': [2, 74],...</td>\n",
       "    </tr>\n",
       "    <tr>\n",
       "      <th>4</th>\n",
       "      <td>https://openalex.org/W2122465344</td>\n",
       "      <td>Relational Embeddedness and Learning: The Case...</td>\n",
       "      <td>{'As': [0], 'a': [1, 15, 122, 153], 'complemen...</td>\n",
       "    </tr>\n",
       "    <tr>\n",
       "      <th>...</th>\n",
       "      <td>...</td>\n",
       "      <td>...</td>\n",
       "      <td>...</td>\n",
       "    </tr>\n",
       "    <tr>\n",
       "      <th>11344</th>\n",
       "      <td>https://openalex.org/W1490505863</td>\n",
       "      <td>A formal model of organizational structure and...</td>\n",
       "      <td>None</td>\n",
       "    </tr>\n",
       "    <tr>\n",
       "      <th>11345</th>\n",
       "      <td>https://openalex.org/W1546346013</td>\n",
       "      <td>Markets, hierarchies and the impact of informa...</td>\n",
       "      <td>None</td>\n",
       "    </tr>\n",
       "    <tr>\n",
       "      <th>11346</th>\n",
       "      <td>https://openalex.org/W1585825907</td>\n",
       "      <td>Modeling coordination in organizations and mar...</td>\n",
       "      <td>{'This': [0, 53], 'paper': [1], 'describes': [...</td>\n",
       "    </tr>\n",
       "    <tr>\n",
       "      <th>11347</th>\n",
       "      <td>https://openalex.org/W2076461592</td>\n",
       "      <td>Performance of dynamic rate leaky bucket algor...</td>\n",
       "      <td>{'A': [0], 'new': [1], 'input': [2], 'rate': [...</td>\n",
       "    </tr>\n",
       "    <tr>\n",
       "      <th>11348</th>\n",
       "      <td>https://openalex.org/W3122913636</td>\n",
       "      <td>Does Information Technology Lead to Smaller Firms</td>\n",
       "      <td>{'Among': [0], 'the': [1, 6, 11, 14, 17, 39, 4...</td>\n",
       "    </tr>\n",
       "  </tbody>\n",
       "</table>\n",
       "<p>11349 rows × 3 columns</p>\n",
       "</div>"
      ]
     },
     "execution_count": 35,
     "metadata": {},
     "output_type": "execute_result"
    }
   ],
   "execution_count": 35
  },
  {
   "cell_type": "markdown",
   "metadata": {},
   "source": [
    "> **Data Overview and Reflection questions:** Answer the following questions:\n",
    "> - **Dataset summary.** How many works are listed in your *IC2S2 papers* dataframe? How many unique researchers have co-authored these works?\n",
    "> - **Efficiency in code.** Describe the strategies you implemented to make your code more efficient. How did your approach affect your code's execution time? __(answer in max 150 words)__\n",
    "> - **Filtering Criteria and Dataset Relevance** Reflect on the rationale behind setting specific thresholds for the total number of works by an author, the citation count, the number of authors per work, and the relevance of works to specific fields. How do these filtering criteria contribute to the relevance of the dataset you compiled? Do you believe any aspects of Computational Social Science research might be underrepresented or overrepresented as a result of these choices? __(answer in max 150 words)__"
   ]
  },
  {
   "metadata": {},
   "cell_type": "markdown",
   "source": "A total of 11349 unique papers are in our dataset. The following code calcualtes the number of unique reasearches that have co-authored these works:"
  },
  {
   "metadata": {
    "ExecuteTime": {
     "end_time": "2025-03-04T22:08:37.496164Z",
     "start_time": "2025-03-04T22:08:37.472994Z"
    }
   },
   "cell_type": "code",
   "source": [
    "author_ids = ';'.join(papers['author_ids'])\n",
    "author_ids = author_ids.split(';')\n",
    "unique_authors = list(set( author_ids ))\n",
    "\n",
    "len(unique_authors)"
   ],
   "outputs": [
    {
     "data": {
      "text/plain": [
       "17581"
      ]
     },
     "execution_count": 36,
     "metadata": {},
     "output_type": "execute_result"
    }
   ],
   "execution_count": 36
  },
  {
   "cell_type": "markdown",
   "metadata": {},
   "source": "A total number of 17581 researches have co-authored works in our dataset."
  },
  {
   "cell_type": "markdown",
   "metadata": {},
   "source": [
    "When I first ran the code without any optimizations it took around half an hour to get all the works for the IC2S2_papers dataframe and OC2S2_abstracts dataframe. Then I implemented bulking authors together in batches of 25 which significantly reduced the running time to a few minutes, and then multithreading the batches to 10 working threads at a time reduced the running time even lower to finishing in 16 seconds."
   ]
  },
  {
   "cell_type": "markdown",
   "metadata": {},
   "source": [
    "The filters we apply aim the enhance data quality and relevant to the topic. By only including works with over 10 citations we ensure that the papers we include only contains research that have a recognized impact. The concepts  filter insures that the papers are in the field of computational social science.\n",
    "\n",
    "By having our filters we may underrepresent emerging papers with few citations, large teams of more than 10 researchers."
   ]
  },
  {
   "cell_type": "markdown",
   "metadata": {},
   "source": [
    "___\n",
    "### Part 4: The Network of Computational Social Scientists"
   ]
  },
  {
   "cell_type": "code",
   "metadata": {
    "ExecuteTime": {
     "end_time": "2025-03-04T22:08:58.486510Z",
     "start_time": "2025-03-04T22:08:58.450924Z"
    }
   },
   "source": [
    "folder_path = \"Works/\"\n",
    "papers = pd.read_csv(folder_path + \"IC2S2_papers.csv\")"
   ],
   "outputs": [],
   "execution_count": 37
  },
  {
   "cell_type": "code",
   "metadata": {
    "ExecuteTime": {
     "end_time": "2025-03-04T22:08:59.038413Z",
     "start_time": "2025-03-04T22:08:59.033287Z"
    }
   },
   "source": [
    "def pair_exists(df, author_a, author_b):\n",
    "    mask = ((df[\"author_1\"] == author_a) & (df[\"author_2\"] == author_b)) | \\\n",
    "           ((df[\"author_1\"] == author_b) & (df[\"author_2\"] == author_a))\n",
    "    match_index = df[mask].index\n",
    "    return match_index, mask.any()  # Returns True if the pair exists"
   ],
   "outputs": [],
   "execution_count": 38
  },
  {
   "cell_type": "code",
   "metadata": {
    "ExecuteTime": {
     "end_time": "2025-03-04T22:09:00.018545Z",
     "start_time": "2025-03-04T22:08:59.701567Z"
    }
   },
   "source": [
    "edge_dict = {}\n",
    "for authors in papers[\"author_ids\"].values:\n",
    "    cleaned_string = authors.replace(\"[\", \"\").replace(\"]\", \"\").replace(\"'\", \"\")\n",
    "    authors = np.array(cleaned_string.split(\";\"))\n",
    "    \n",
    "    for i,author1 in enumerate(authors):\n",
    "        for j in range(i+1,len(authors)):\n",
    "            author2 = authors[j]\n",
    "            author_pair = tuple(sorted([author1,author2]))\n",
    "            if author_pair in edge_dict:\n",
    "                edge_dict[author_pair] += 1\n",
    "            else:\n",
    "                edge_dict[author_pair] = 1\n",
    "df = pd.DataFrame([{\"author_1\": pair[0], \"author_2\": pair[1], \"weight\": weight} for pair, weight in edge_dict.items()])\n",
    "df\n",
    "#df.to_csv(\"Authors/author_edgelist_allworks.csv\", index = False)"
   ],
   "outputs": [
    {
     "data": {
      "text/plain": [
       "                               author_1                          author_2  \\\n",
       "0      https://openalex.org/A5076755077  https://openalex.org/A5079813490   \n",
       "1      https://openalex.org/A5015711710  https://openalex.org/A5076755077   \n",
       "2      https://openalex.org/A5015711710  https://openalex.org/A5079813490   \n",
       "3      https://openalex.org/A5015711710  https://openalex.org/A5040544719   \n",
       "4      https://openalex.org/A5078758511  https://openalex.org/A5079813490   \n",
       "...                                 ...                               ...   \n",
       "56389  https://openalex.org/A5005339370  https://openalex.org/A5079825006   \n",
       "56390  https://openalex.org/A5100398118  https://openalex.org/A5111622296   \n",
       "56391  https://openalex.org/A5038255653  https://openalex.org/A5081335111   \n",
       "56392  https://openalex.org/A5079825006  https://openalex.org/A5081335111   \n",
       "56393  https://openalex.org/A5005339370  https://openalex.org/A5081335111   \n",
       "\n",
       "       weight  \n",
       "0           4  \n",
       "1           5  \n",
       "2           7  \n",
       "3           1  \n",
       "4           1  \n",
       "...       ...  \n",
       "56389       2  \n",
       "56390       1  \n",
       "56391       1  \n",
       "56392       1  \n",
       "56393       1  \n",
       "\n",
       "[56394 rows x 3 columns]"
      ],
      "text/html": [
       "<div>\n",
       "<style scoped>\n",
       "    .dataframe tbody tr th:only-of-type {\n",
       "        vertical-align: middle;\n",
       "    }\n",
       "\n",
       "    .dataframe tbody tr th {\n",
       "        vertical-align: top;\n",
       "    }\n",
       "\n",
       "    .dataframe thead th {\n",
       "        text-align: right;\n",
       "    }\n",
       "</style>\n",
       "<table border=\"1\" class=\"dataframe\">\n",
       "  <thead>\n",
       "    <tr style=\"text-align: right;\">\n",
       "      <th></th>\n",
       "      <th>author_1</th>\n",
       "      <th>author_2</th>\n",
       "      <th>weight</th>\n",
       "    </tr>\n",
       "  </thead>\n",
       "  <tbody>\n",
       "    <tr>\n",
       "      <th>0</th>\n",
       "      <td>https://openalex.org/A5076755077</td>\n",
       "      <td>https://openalex.org/A5079813490</td>\n",
       "      <td>4</td>\n",
       "    </tr>\n",
       "    <tr>\n",
       "      <th>1</th>\n",
       "      <td>https://openalex.org/A5015711710</td>\n",
       "      <td>https://openalex.org/A5076755077</td>\n",
       "      <td>5</td>\n",
       "    </tr>\n",
       "    <tr>\n",
       "      <th>2</th>\n",
       "      <td>https://openalex.org/A5015711710</td>\n",
       "      <td>https://openalex.org/A5079813490</td>\n",
       "      <td>7</td>\n",
       "    </tr>\n",
       "    <tr>\n",
       "      <th>3</th>\n",
       "      <td>https://openalex.org/A5015711710</td>\n",
       "      <td>https://openalex.org/A5040544719</td>\n",
       "      <td>1</td>\n",
       "    </tr>\n",
       "    <tr>\n",
       "      <th>4</th>\n",
       "      <td>https://openalex.org/A5078758511</td>\n",
       "      <td>https://openalex.org/A5079813490</td>\n",
       "      <td>1</td>\n",
       "    </tr>\n",
       "    <tr>\n",
       "      <th>...</th>\n",
       "      <td>...</td>\n",
       "      <td>...</td>\n",
       "      <td>...</td>\n",
       "    </tr>\n",
       "    <tr>\n",
       "      <th>56389</th>\n",
       "      <td>https://openalex.org/A5005339370</td>\n",
       "      <td>https://openalex.org/A5079825006</td>\n",
       "      <td>2</td>\n",
       "    </tr>\n",
       "    <tr>\n",
       "      <th>56390</th>\n",
       "      <td>https://openalex.org/A5100398118</td>\n",
       "      <td>https://openalex.org/A5111622296</td>\n",
       "      <td>1</td>\n",
       "    </tr>\n",
       "    <tr>\n",
       "      <th>56391</th>\n",
       "      <td>https://openalex.org/A5038255653</td>\n",
       "      <td>https://openalex.org/A5081335111</td>\n",
       "      <td>1</td>\n",
       "    </tr>\n",
       "    <tr>\n",
       "      <th>56392</th>\n",
       "      <td>https://openalex.org/A5079825006</td>\n",
       "      <td>https://openalex.org/A5081335111</td>\n",
       "      <td>1</td>\n",
       "    </tr>\n",
       "    <tr>\n",
       "      <th>56393</th>\n",
       "      <td>https://openalex.org/A5005339370</td>\n",
       "      <td>https://openalex.org/A5081335111</td>\n",
       "      <td>1</td>\n",
       "    </tr>\n",
       "  </tbody>\n",
       "</table>\n",
       "<p>56394 rows × 3 columns</p>\n",
       "</div>"
      ]
     },
     "execution_count": 39,
     "metadata": {},
     "output_type": "execute_result"
    }
   ],
   "execution_count": 39
  },
  {
   "cell_type": "code",
   "metadata": {
    "ExecuteTime": {
     "end_time": "2025-03-04T22:09:04.431519Z",
     "start_time": "2025-03-04T22:09:02.214837Z"
    }
   },
   "source": [
    "G = nx.Graph()\n",
    "edges = [(row['author_1'], row['author_2'], row['weight']) for index, row in df.iterrows()]\n",
    "G.add_weighted_edges_from(edges)"
   ],
   "outputs": [],
   "execution_count": 40
  },
  {
   "cell_type": "code",
   "metadata": {
    "ExecuteTime": {
     "end_time": "2025-03-04T22:09:04.893611Z",
     "start_time": "2025-03-04T22:09:04.886524Z"
    }
   },
   "source": [
    "nodes_N = G.nodes\n",
    "author_N = len(nodes_N) #the number of authors\n",
    "author_N"
   ],
   "outputs": [
    {
     "data": {
      "text/plain": [
       "17572"
      ]
     },
     "execution_count": 41,
     "metadata": {},
     "output_type": "execute_result"
    }
   ],
   "execution_count": 41
  },
  {
   "cell_type": "code",
   "metadata": {
    "ExecuteTime": {
     "end_time": "2025-03-04T22:09:05.653855Z",
     "start_time": "2025-03-04T22:09:05.644260Z"
    }
   },
   "source": [
    "weight_sum = int(sum(df[\"weight\"].values))\n",
    "weight_sum"
   ],
   "outputs": [
    {
     "data": {
      "text/plain": [
       "77881"
      ]
     },
     "execution_count": 42,
     "metadata": {},
     "output_type": "execute_result"
    }
   ],
   "execution_count": 42
  },
  {
   "cell_type": "code",
   "metadata": {
    "ExecuteTime": {
     "end_time": "2025-03-04T22:09:06.307562Z",
     "start_time": "2025-03-04T22:09:06.275568Z"
    }
   },
   "source": [
    "nx.is_connected(G)"
   ],
   "outputs": [
    {
     "data": {
      "text/plain": [
       "False"
      ]
     },
     "execution_count": 43,
     "metadata": {},
     "output_type": "execute_result"
    }
   ],
   "execution_count": 43
  },
  {
   "cell_type": "markdown",
   "metadata": {},
   "source": [
    "The graph is disconnected. There are isolated groups of nodes with no path connecting them."
   ]
  },
  {
   "cell_type": "code",
   "metadata": {
    "ExecuteTime": {
     "end_time": "2025-03-04T22:09:07.814991Z",
     "start_time": "2025-03-04T22:09:07.772215Z"
    }
   },
   "source": [
    "list_of_connected_comp = list(nx.connected_components(G))\n",
    "print(len(list_of_connected_comp)) # number of connected components"
   ],
   "outputs": [
    {
     "name": "stdout",
     "output_type": "stream",
     "text": [
      "273\n"
     ]
    }
   ],
   "execution_count": 44
  },
  {
   "cell_type": "code",
   "metadata": {
    "ExecuteTime": {
     "end_time": "2025-03-04T22:09:08.341963Z",
     "start_time": "2025-03-04T22:09:08.329988Z"
    }
   },
   "source": [
    "list(nx.isolates(G)) "
   ],
   "outputs": [
    {
     "data": {
      "text/plain": [
       "[]"
      ]
     },
     "execution_count": 45,
     "metadata": {},
     "output_type": "execute_result"
    }
   ],
   "execution_count": 45
  },
  {
   "cell_type": "markdown",
   "metadata": {},
   "source": [
    "There are 279 connected components and no isolated nodes in the network. It was expected that there was no isolated nodes as the network was created form a edgelist."
   ]
  },
  {
   "cell_type": "code",
   "metadata": {
    "ExecuteTime": {
     "end_time": "2025-03-04T22:09:09.268567Z",
     "start_time": "2025-03-04T22:09:09.264223Z"
    }
   },
   "source": [
    "density = weight_sum/((author_N*(author_N-1))/2)\n",
    "density #very low density"
   ],
   "outputs": [
    {
     "data": {
      "text/plain": [
       "0.0005044798701189593"
      ]
     },
     "execution_count": 46,
     "metadata": {},
     "output_type": "execute_result"
    }
   ],
   "execution_count": 46
  },
  {
   "cell_type": "code",
   "metadata": {
    "ExecuteTime": {
     "end_time": "2025-03-04T22:09:09.711024Z",
     "start_time": "2025-03-04T22:09:09.704786Z"
    }
   },
   "source": [
    "average_weight_pr_author = (weight_sum/author_N)*2\n",
    "average_weight_pr_author #average sum of edge weights going to each node"
   ],
   "outputs": [
    {
     "data": {
      "text/plain": [
       "8.864215797860233"
      ]
     },
     "execution_count": 47,
     "metadata": {},
     "output_type": "execute_result"
    }
   ],
   "execution_count": 47
  },
  {
   "cell_type": "markdown",
   "metadata": {},
   "source": [
    "279 connected componnents suggests that G is has low connectivity. This is underlined by the low density. This means that the data suggests that the CSS reasearchers are poorly connected and work in around 279 isolated groups. This makes sense since researchers probably often work in smaller teams, and since Comutational Sociaal Science is quite a wide topic, it makes sense that there exist many different subareas of research. The low density is also to be expected as it would be unrealistic that every researcher in CSS had worked together with even close to 18000 other people."
   ]
  },
  {
   "metadata": {
    "ExecuteTime": {
     "end_time": "2025-03-04T22:09:10.493130Z",
     "start_time": "2025-03-04T22:09:10.474342Z"
    }
   },
   "cell_type": "code",
   "source": [
    "# Get the degree of each node (as a list of values)\n",
    "degrees = [degree for node, degree in G.degree()]\n",
    "\n",
    "# Compute the required statistics\n",
    "average_degree = np.mean(degrees)\n",
    "median_degree = np.median(degrees)\n",
    "counter = Counter(degrees)\n",
    "mode_degree, mode_count = counter.most_common(1)[0]\n",
    "minimum_degree = np.min(degrees)\n",
    "maximum_degree = np.max(degrees)"
   ],
   "outputs": [],
   "execution_count": 48
  },
  {
   "metadata": {
    "ExecuteTime": {
     "end_time": "2025-03-04T22:09:10.929690Z",
     "start_time": "2025-03-04T22:09:10.882698Z"
    }
   },
   "cell_type": "code",
   "source": [
    "# Calculate node strength (weighted degree) for each node\n",
    "strengths = [strength for node, strength in G.degree(weight='weight')]\n",
    "\n",
    "# Compute the required statistics\n",
    "average_strength = np.mean(strengths)\n",
    "median_strength = np.median(strengths)\n",
    "counter_strength = Counter(strengths)\n",
    "mode_strength, mode_count = counter_strength.most_common(1)[0]\n",
    "minimum_strength = np.min(strengths)\n",
    "maximum_strength = np.max(strengths)"
   ],
   "outputs": [],
   "execution_count": 49
  },
  {
   "metadata": {
    "ExecuteTime": {
     "end_time": "2025-03-04T22:09:11.394887Z",
     "start_time": "2025-03-04T22:09:11.389141Z"
    }
   },
   "cell_type": "code",
   "source": [
    "# Print the computed degree statistics\n",
    "print(\"Average degree:\", average_degree)\n",
    "print(\"Median degree:\", median_degree)\n",
    "print(\"Mode degree:\", mode_degree)\n",
    "print(\"Minimum degree:\", minimum_degree)\n",
    "print(\"Maximum degree:\", maximum_degree)\n",
    "\n",
    "print()\n",
    "\n",
    "# Print the computed node strength statistics\n",
    "print(\"Average strength:\", average_strength)\n",
    "print(\"Median strength:\", median_strength)\n",
    "print(\"Mode strength:\", mode_strength)\n",
    "print(\"Minimum strength:\", minimum_strength)\n",
    "print(\"Maximum strength:\", maximum_strength)"
   ],
   "outputs": [
    {
     "name": "stdout",
     "output_type": "stream",
     "text": [
      "Average degree: 6.418620532665605\n",
      "Median degree: 5.0\n",
      "Mode degree: 4\n",
      "Minimum degree: 1\n",
      "Maximum degree: 362\n",
      "\n",
      "Average strength: 8.864215797860233\n",
      "Median strength: 5.0\n",
      "Mode strength: 4\n",
      "Minimum strength: 1\n",
      "Maximum strength: 607\n"
     ]
    }
   ],
   "execution_count": 50
  },
  {
   "metadata": {},
   "cell_type": "markdown",
   "source": [
    "We can tell from the degree information that on average each author collaborates with around 6 to 7 other authors. We can tell from the median and mode and most authors work in small networks. We can also see that there is a large range of collaborations $[1..362]$, with some authors only having 1 collaboration while others have hundreds.\n",
    "\n",
    "When looking at the strength of the connections we can see that the average is $8.86$ which indicates that people prefer to repeat collaborations rather than to make new connections. We can also see this from the median and mode where we can see that most authors collaborate with small groups. We can also see from the maximum that some authors co-author many papers, suggesting that they have a large network connection."
   ]
  },
  {
   "metadata": {
    "ExecuteTime": {
     "end_time": "2025-03-04T22:09:15.284098Z",
     "start_time": "2025-03-04T22:09:13.569177Z"
    }
   },
   "cell_type": "code",
   "source": [
    "weighted_degree_dict = dict(G.degree(weight=\"weight\"))\n",
    "\n",
    "most_connected_weighted_nodes = sorted(weighted_degree_dict.items(), key=lambda x: x[1], reverse=True)\n",
    "\n",
    "url = 'https://api.openalex.org/authors/'\n",
    "\n",
    "print(\"Top 5:\")\n",
    "for id_url, weighted_degree in most_connected_weighted_nodes[:5]:\n",
    "    index = id_url.find(\"A\")\n",
    "    id = id_url[index:]\n",
    "    response = requests.get(url + id).json()\n",
    "    name = response[\"display_name\"]\n",
    "\n",
    "    print(f\"Node {id_url} with weight: {weighted_degree}\")\n",
    "    print(name)\n",
    "    \n",
    "    field = response[\"topics\"][0][\"field\"][\"display_name\"]\n",
    "    subfield = response[\"topics\"][0][\"subfield\"][\"display_name\"]\n",
    "    print(f\"Field: {field}, Subfield: {subfield}\")\n",
    "    print(\"\")"
   ],
   "outputs": [
    {
     "name": "stdout",
     "output_type": "stream",
     "text": [
      "Top 5:\n",
      "Node https://openalex.org/A5005421447 with weight: 607\n",
      "Yi Yang\n",
      "Field: Computer Science, Subfield: Computer Vision and Pattern Recognition\n",
      "\n",
      "Node https://openalex.org/A5007176508 with weight: 594\n",
      "Alex Pentland\n",
      "Field: Social Sciences, Subfield: Transportation\n",
      "\n",
      "Node https://openalex.org/A5100355277 with weight: 550\n",
      "Yong Li\n",
      "Field: Social Sciences, Subfield: Transportation\n",
      "\n",
      "Node https://openalex.org/A5100322712 with weight: 517\n",
      "Yan Wang\n",
      "Field: Computer Science, Subfield: Information Systems\n",
      "\n",
      "Node https://openalex.org/A5044944954 with weight: 514\n",
      "Lyle Ungar\n",
      "Field: Psychology, Subfield: Social Psychology\n",
      "\n"
     ]
    }
   ],
   "execution_count": 51
  },
  {
   "metadata": {},
   "cell_type": "markdown",
   "source": "The top authors in our network connects research clusters togehter by having broad backgrounds in the field. Their high weight indicate frequent collaborations and/or connections. For instance, Shuicheng Yan is a leader in Computer Science team, which focuses on Computer Vision and multimedia analysis. Alex Pentland is an entrepreneur in the fields Social Physics, Honest Signals, Computational Social Science, Network and Complexity Science. Alessandro Flammini is intereting since his main field is physics but also has some background in Computer Science. Even though the authors have varying primary specializations in fields there enhances the connections of Computational Social Science, demonstrating how technical, social, and quantitative research can address societal challenges."
  },
  {
   "metadata": {
    "ExecuteTime": {
     "end_time": "2025-03-04T22:06:43.475154Z",
     "start_time": "2025-03-04T22:06:43.472243Z"
    }
   },
   "cell_type": "code",
   "source": "",
   "outputs": [],
   "execution_count": null
  }
 ],
 "metadata": {
  "kernelspec": {
   "display_name": "02467CSS",
   "language": "python",
   "name": "python3"
  },
  "language_info": {
   "codemirror_mode": {
    "name": "ipython",
    "version": 3
   },
   "file_extension": ".py",
   "mimetype": "text/x-python",
   "name": "python",
   "nbconvert_exporter": "python",
   "pygments_lexer": "ipython3",
   "version": "3.11.11"
  }
 },
 "nbformat": 4,
 "nbformat_minor": 2
}

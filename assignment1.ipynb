{
 "cells": [
  {
   "cell_type": "markdown",
   "metadata": {},
   "source": [
    "### Link to git repository:\n",
    "https://github.com/mbrochlips/CSS_project1\n",
    "\n",
    "### Contributions:\n",
    "| Name                | Part 1 | Part 2 | Part 3 | Part 4 |\n",
    "|---------------------|--------|--------|--------|--------|\n",
    "|  Mikkel (s234860)   | 40%    | 30%    | 30%    | 35%    |\n",
    "|  Kantinka (s235058) | 30%    | 40%    | 30%    | 35%    |\n",
    "|  Marcus (s2348..)   | 30%    | 30%    | 40%    | 30%    |"
   ]
  },
  {
   "cell_type": "code",
   "execution_count": 25,
   "metadata": {},
   "outputs": [],
   "source": [
    "# Library imports\n",
    "from bs4 import BeautifulSoup \n",
    "import re\n",
    "import pandas as pd\n",
    "import requests\n",
    "from time import sleep\n",
    "from json import JSONDecodeError\n",
    "import numpy as np\n",
    "from concurrent.futures import ThreadPoolExecutor, as_completed\n",
    "import networkx as nx\n",
    "import matplotlib.pyplot as plt"
   ]
  },
  {
   "cell_type": "markdown",
   "metadata": {},
   "source": [
    "### Part 1: Web-scraping"
   ]
  },
  {
   "cell_type": "code",
   "execution_count": 2,
   "metadata": {},
   "outputs": [],
   "source": [
    "url = \"https://ic2s2-2023.org/program\"\n",
    "r = requests.get(url) \n",
    "soup = BeautifulSoup(r.content) \n",
    "\n",
    "data = soup.find_all(\"i\")\n",
    "\n",
    "text = str(data)\n",
    "\n",
    "cleaned_text = re.sub(r'<[^>]+>', '', text)\n",
    "\n",
    "cleaned_text = re.sub(r'Chair:', '', cleaned_text)\n",
    "\n",
    "names = [name.strip().lower() for name in cleaned_text.split(',')]\n",
    "\n",
    "names[0] = names[0][2:]\n",
    "names[-1] = names[0][:-1]\n",
    "\n",
    "#print(names)"
   ]
  },
  {
   "cell_type": "code",
   "execution_count": 3,
   "metadata": {},
   "outputs": [
    {
     "name": "stdout",
     "output_type": "stream",
     "text": [
      "Linda Steg not found\n"
     ]
    }
   ],
   "source": [
    "for elem in data:\n",
    "    name = \"Linda Steg\"\n",
    "    if name in str(elem):\n",
    "        print(f\"{name} found\")\n",
    "print(f\"{name} not found\")\n",
    "\n",
    "# Seems that no keynote speakers included"
   ]
  },
  {
   "cell_type": "code",
   "execution_count": 4,
   "metadata": {},
   "outputs": [],
   "source": [
    "soup = BeautifulSoup(r.text, \"html.parser\")\n",
    "\n",
    "keynote_elements = soup.find_all(\"td\", colspan=\"100%\")\n",
    "\n",
    "names_keynote = []\n",
    "for elem in keynote_elements:\n",
    "    if \"keynotes\" in str(elem):\n",
    "        index = str(elem).find(\"Keynote - \")\n",
    "        name = str(elem)[index+10:-13]\n",
    "        names_keynote.append(name.lower())\n",
    "\n",
    "#print(names_keynote)\n",
    "\n",
    "allnames = names + names_keynote"
   ]
  },
  {
   "cell_type": "code",
   "execution_count": 14,
   "metadata": {},
   "outputs": [
    {
     "name": "stdout",
     "output_type": "stream",
     "text": [
      "1455\n"
     ]
    }
   ],
   "source": [
    "# NOTE: To find all unique names we used chatgpt to help us filtering the names.\n",
    "\n",
    "# Steps:\n",
    "# 1.\tCheck for exact duplicates.\n",
    "# 2.\tUse fuzzy matching to detect minor spelling differences.\n",
    "# 3.\tHandle middle name variations (keep the longest version)\n",
    "\n",
    "from thefuzz import fuzz\n",
    "\n",
    "# Function to check if one name is a short version of another\n",
    "def is_shorter_version(name1, name2):\n",
    "    name1_parts = set(name1.split())\n",
    "    name2_parts = set(name2.split())\n",
    "    return name1_parts.issubset(name2_parts) or name2_parts.issubset(name1_parts)\n",
    "\n",
    "# Filter out duplicates with minor differences\n",
    "unique_names = []\n",
    "for name in allnames:\n",
    "    name  = name.title().strip()\n",
    "    found_duplicate = False\n",
    "    for unique in unique_names: \n",
    "        # Check for minor spelling differences\n",
    "        if fuzz.ratio(name, unique) > 90:\n",
    "            found_duplicate = True\n",
    "            break\n",
    "        # Check if one is a shorter version of another\n",
    "        if is_shorter_version(name, unique):\n",
    "            if len(name) > len(unique):  # Keep the longer version\n",
    "                unique_names.remove(unique)\n",
    "                unique_names.append(name)\n",
    "            found_duplicate = True\n",
    "            break\n",
    "    if not found_duplicate:\n",
    "        unique_names.append(name)\n",
    "\n",
    "# Print length of cleaned list\n",
    "print(len(unique_names))"
   ]
  },
  {
   "cell_type": "markdown",
   "metadata": {},
   "source": [
    "### 6. Explaining the process.\n",
    "\n",
    "Looking into the html code of the website it was quickly seen that most names were written in italics \\<i> . This included the two talks categories and posters. But some names were also with underscore \\<u> and often many names where listed together. To clean this the library RegEx (re) was used to filter different all found cases (including filtering \"Chair:\"). \n",
    "\n",
    "After checking names from different areas in the webpage we found that we were only missing the the keynote speakers at the top of the webpage. It was discovered that \"td\", colspan=\"100%\" was unique for the lines with Keynote speakers. And the found names were added. Lastly, all names names where cleaned and we searched for dublicates (including spelling mistakes and handling different versions of middle names).\n",
    "\n",
    "Name count = 1455"
   ]
  },
  {
   "cell_type": "markdown",
   "metadata": {},
   "source": [
    "### Part 2: Ready Made vs Custom Made Data"
   ]
  },
  {
   "cell_type": "markdown",
   "metadata": {},
   "source": [
    "#### Pros and cons of the custom-made data vs. ready-made data\n",
    "One of the advantages of custom-made data is being able to control the experimental setup to precisely fit the research question. E.g. by making a randomized setup, with a control group as in Centolas experiment. This is harder to achieve in ready-made data, as the participants might not be a representative of the entire population. E.g. It might be only some types of people who uses the fitness tracking app in Nicolaides study. Moreover the data might be incomplete or dirty, and demographic information might be sparse, either due to limited collection of data or privacy concerns.\n",
    "\n",
    "The advantages of ready-made data is that it can contain large samples taken continuously over a long period of time, whereas custom-made data has to be planned and can be costly to obtain. Ready-made data can also reflect real world conditions more closely, as the data is not obtained from an artificial setting. \n",
    "\n",
    "#### How the differences can influence the interpretation of the results\n",
    "In Centola’s experiment, the setup might be too far from a real setting to say something general about behavior contagion, as there are lots of factors the study doesn’t consider. \n",
    "\n",
    "In Nicolaides study, there is a risk of that the people who used the fitness-app is not representative of the population, maybe they are generally more social, or generally more keen to be nudged by their friends’ behavior. There is also a chance that the data doesn’t affect the theoretical concept in study, or that there are confounders. The researchers tried to take account of the latter, by using an instrumental variable. "
   ]
  },
  {
   "cell_type": "markdown",
   "metadata": {},
   "source": [
    "## Part 3: Gathering Research Articles using the OpenAlex API"
   ]
  },
  {
   "cell_type": "markdown",
   "metadata": {},
   "source": [
    "> **Exercise : Collecting Research Articles from IC2S2 Authors**\n",
    ">\n",
    ">In this exercise, we'll leverage the OpenAlex API to gather information on research articles authored by participants of the IC2S2 2024 (NOT 2023) conference, referred to as *IC2S2 authors*. **Before you start, please ensure you read through the entire exercise.**\n",
    ">\n",
    ">\n",
    "> **Steps:**\n",
    ">\n",
    "> 1. **Retrieve Data:** Starting with the *authors* you identified in Week 2, Exercise 2, use the OpenAlex API [works endpoint](https://docs.openalex.org/api-entities/works) to fetch the research articles they have authored. For each article, retrieve the following details:\n",
    ">    - _id_: The unique OpenAlex ID for the work.\n",
    ">    - _publication_year_: The year the work was published.\n",
    ">    - _cited_by_count_: The number of times the work has been cited by other works.\n",
    ">    - _author_ids_: The OpenAlex IDs for the authors of the work.\n",
    ">    - _title_: The title of the work.\n",
    ">    - _abstract_inverted_index_: The abstract of the work, formatted as an inverted index.\n",
    ">\n",
    ">     **Important Note on Paging:** By default, the OpenAlex API limits responses to 25 works per request. For more efficient data retrieval, I suggest to adjust this limit to 200 works per request. Even with this adjustment, you will need to implement pagination to access all available works for a given query. This ensures you can systematically retrieve the complete set of works beyond the initial 200. Find guidance on implementing pagination [here](https://docs.openalex.org/how-to-use-the-api/get-lists-of-entities/paging#cursor-paging).\n",
    ">\n",
    "> 2. **Data Storage:** Organize the retrieved information into two Pandas DataFrames and save them to two files in a suitable format:\n",
    ">    - The *IC2S2 papers* dataset should include: *id, publication\\_year, cited\\_by\\_count, author\\_ids*.\n",
    ">    - The *IC2S2 abstracts* dataset should include: *id, title, abstract\\_inverted\\_index*.\n",
    ">\n",
    ">\n",
    "> **Filters:**\n",
    "> To ensure the data we collect is relevant and manageable, apply the following filters:\n",
    ">\n",
    ">    - Only include *IC2S2 authors* with a total work count between 5 and 5,000.\n",
    ">    - Retrieve only works that have received more than 10 citations.\n",
    ">    - Limit to works authored by fewer than 10 individuals.\n",
    ">    - Include only works relevant to Computational Social Science (focusing on: Sociology OR Psychology OR Economics OR Political Science) AND intersecting with a quantitative discipline (Mathematics OR Physics OR Computer Science), as defined by their [Concepts](https://docs.openalex.org/api-entities/works/work-object#concepts). *Note*: here we only consider Concepts at *level=0* (the most coarse definition of concepts).\n",
    ">\n",
    ">\n"
   ]
  },
  {
   "cell_type": "code",
   "execution_count": null,
   "metadata": {
    "ExecuteTime": {
     "end_time": "2025-03-04T18:14:16.156169Z",
     "start_time": "2025-03-04T18:14:16.099894Z"
    }
   },
   "outputs": [
    {
     "data": {
      "text/html": [
       "<div>\n",
       "<style scoped>\n",
       "    .dataframe tbody tr th:only-of-type {\n",
       "        vertical-align: middle;\n",
       "    }\n",
       "\n",
       "    .dataframe tbody tr th {\n",
       "        vertical-align: top;\n",
       "    }\n",
       "\n",
       "    .dataframe thead th {\n",
       "        text-align: right;\n",
       "    }\n",
       "</style>\n",
       "<table border=\"1\" class=\"dataframe\">\n",
       "  <thead>\n",
       "    <tr style=\"text-align: right;\">\n",
       "      <th></th>\n",
       "      <th>id</th>\n",
       "      <th>display_name</th>\n",
       "      <th>works_api_url</th>\n",
       "      <th>works_count</th>\n",
       "      <th>country_code</th>\n",
       "      <th>h_index</th>\n",
       "    </tr>\n",
       "  </thead>\n",
       "  <tbody>\n",
       "    <tr>\n",
       "      <th>0</th>\n",
       "      <td>https://openalex.org/A5026829784</td>\n",
       "      <td>Sam Corbett‐Davies</td>\n",
       "      <td>https://api.openalex.org/works?filter=author.i...</td>\n",
       "      <td>34</td>\n",
       "      <td>IL</td>\n",
       "      <td>14</td>\n",
       "    </tr>\n",
       "    <tr>\n",
       "      <th>1</th>\n",
       "      <td>https://openalex.org/A5066089123</td>\n",
       "      <td>Byungkyu Lee</td>\n",
       "      <td>https://api.openalex.org/works?filter=author.i...</td>\n",
       "      <td>186</td>\n",
       "      <td>US</td>\n",
       "      <td>13</td>\n",
       "    </tr>\n",
       "    <tr>\n",
       "      <th>2</th>\n",
       "      <td>https://openalex.org/A5100435139</td>\n",
       "      <td>Jingwen Zhang</td>\n",
       "      <td>https://api.openalex.org/works?filter=author.i...</td>\n",
       "      <td>399</td>\n",
       "      <td>CN</td>\n",
       "      <td>47</td>\n",
       "    </tr>\n",
       "    <tr>\n",
       "      <th>3</th>\n",
       "      <td>https://openalex.org/A5002073039</td>\n",
       "      <td>Sou Hyun Jang</td>\n",
       "      <td>https://api.openalex.org/works?filter=author.i...</td>\n",
       "      <td>69</td>\n",
       "      <td>KR</td>\n",
       "      <td>11</td>\n",
       "    </tr>\n",
       "    <tr>\n",
       "      <th>4</th>\n",
       "      <td>https://openalex.org/A5091610280</td>\n",
       "      <td>Carl Colglazier</td>\n",
       "      <td>https://api.openalex.org/works?filter=author.i...</td>\n",
       "      <td>4</td>\n",
       "      <td>US</td>\n",
       "      <td>1</td>\n",
       "    </tr>\n",
       "    <tr>\n",
       "      <th>...</th>\n",
       "      <td>...</td>\n",
       "      <td>...</td>\n",
       "      <td>...</td>\n",
       "      <td>...</td>\n",
       "      <td>...</td>\n",
       "      <td>...</td>\n",
       "    </tr>\n",
       "    <tr>\n",
       "      <th>1145</th>\n",
       "      <td>https://openalex.org/A5043405308</td>\n",
       "      <td>Yen-Huei Chen</td>\n",
       "      <td>https://api.openalex.org/works?filter=author.i...</td>\n",
       "      <td>29</td>\n",
       "      <td>TW</td>\n",
       "      <td>13</td>\n",
       "    </tr>\n",
       "    <tr>\n",
       "      <th>1146</th>\n",
       "      <td>https://openalex.org/A5021090586</td>\n",
       "      <td>Michael Lees</td>\n",
       "      <td>https://api.openalex.org/works?filter=author.i...</td>\n",
       "      <td>226</td>\n",
       "      <td>NL</td>\n",
       "      <td>28</td>\n",
       "    </tr>\n",
       "    <tr>\n",
       "      <th>1147</th>\n",
       "      <td>https://openalex.org/A5102918288</td>\n",
       "      <td>Jiayu Zheng</td>\n",
       "      <td>https://api.openalex.org/works?filter=author.i...</td>\n",
       "      <td>35</td>\n",
       "      <td>CN</td>\n",
       "      <td>13</td>\n",
       "    </tr>\n",
       "    <tr>\n",
       "      <th>1148</th>\n",
       "      <td>https://openalex.org/A5065295188</td>\n",
       "      <td>Yang Tian</td>\n",
       "      <td>https://api.openalex.org/works?filter=author.i...</td>\n",
       "      <td>450</td>\n",
       "      <td>CN</td>\n",
       "      <td>63</td>\n",
       "    </tr>\n",
       "    <tr>\n",
       "      <th>1149</th>\n",
       "      <td>https://openalex.org/A5101275716</td>\n",
       "      <td>Yiwei Xu</td>\n",
       "      <td>https://api.openalex.org/works?filter=author.i...</td>\n",
       "      <td>90</td>\n",
       "      <td>CN</td>\n",
       "      <td>23</td>\n",
       "    </tr>\n",
       "  </tbody>\n",
       "</table>\n",
       "<p>1150 rows × 6 columns</p>\n",
       "</div>"
      ],
      "text/plain": [
       "                                    id        display_name  \\\n",
       "0     https://openalex.org/A5026829784  Sam Corbett‐Davies   \n",
       "1     https://openalex.org/A5066089123        Byungkyu Lee   \n",
       "2     https://openalex.org/A5100435139       Jingwen Zhang   \n",
       "3     https://openalex.org/A5002073039       Sou Hyun Jang   \n",
       "4     https://openalex.org/A5091610280     Carl Colglazier   \n",
       "...                                ...                 ...   \n",
       "1145  https://openalex.org/A5043405308       Yen-Huei Chen   \n",
       "1146  https://openalex.org/A5021090586        Michael Lees   \n",
       "1147  https://openalex.org/A5102918288         Jiayu Zheng   \n",
       "1148  https://openalex.org/A5065295188           Yang Tian   \n",
       "1149  https://openalex.org/A5101275716            Yiwei Xu   \n",
       "\n",
       "                                          works_api_url  works_count  \\\n",
       "0     https://api.openalex.org/works?filter=author.i...           34   \n",
       "1     https://api.openalex.org/works?filter=author.i...          186   \n",
       "2     https://api.openalex.org/works?filter=author.i...          399   \n",
       "3     https://api.openalex.org/works?filter=author.i...           69   \n",
       "4     https://api.openalex.org/works?filter=author.i...            4   \n",
       "...                                                 ...          ...   \n",
       "1145  https://api.openalex.org/works?filter=author.i...           29   \n",
       "1146  https://api.openalex.org/works?filter=author.i...          226   \n",
       "1147  https://api.openalex.org/works?filter=author.i...           35   \n",
       "1148  https://api.openalex.org/works?filter=author.i...          450   \n",
       "1149  https://api.openalex.org/works?filter=author.i...           90   \n",
       "\n",
       "     country_code  h_index  \n",
       "0              IL       14  \n",
       "1              US       13  \n",
       "2              CN       47  \n",
       "3              KR       11  \n",
       "4              US        1  \n",
       "...           ...      ...  \n",
       "1145           TW       13  \n",
       "1146           NL       28  \n",
       "1147           CN       13  \n",
       "1148           CN       63  \n",
       "1149           CN       23  \n",
       "\n",
       "[1150 rows x 6 columns]"
      ]
     },
     "execution_count": 20,
     "metadata": {},
     "output_type": "execute_result"
    }
   ],
   "source": [
    "# Read authors CSV file\n",
    "csv_path = 'C:/Users/marcu/Documents/Computational social science/Week 2/Authors.csv'\n",
    "authors = pd.read_csv(csv_path)\n",
    "\n",
    "authors"
   ]
  },
  {
   "cell_type": "markdown",
   "metadata": {},
   "source": [
    "This is all the authors from IC2S2 2024.\n",
    "\n",
    "We then batch the authors and groups of 25 to make the code run faster:"
   ]
  },
  {
   "cell_type": "code",
   "execution_count": null,
   "metadata": {
    "ExecuteTime": {
     "end_time": "2025-03-04T18:14:19.456438Z",
     "start_time": "2025-03-04T18:14:19.432193Z"
    }
   },
   "outputs": [
    {
     "name": "stderr",
     "output_type": "stream",
     "text": [
      "C:\\Users\\marcu\\Documents\\Computational social science\\venv\\Lib\\site-packages\\numpy\\_core\\fromnumeric.py:57: FutureWarning: 'DataFrame.swapaxes' is deprecated and will be removed in a future version. Please use 'DataFrame.transpose' instead.\n",
      "  return bound(*args, **kwds)\n"
     ]
    },
    {
     "data": {
      "text/html": [
       "<div>\n",
       "<style scoped>\n",
       "    .dataframe tbody tr th:only-of-type {\n",
       "        vertical-align: middle;\n",
       "    }\n",
       "\n",
       "    .dataframe tbody tr th {\n",
       "        vertical-align: top;\n",
       "    }\n",
       "\n",
       "    .dataframe thead th {\n",
       "        text-align: right;\n",
       "    }\n",
       "</style>\n",
       "<table border=\"1\" class=\"dataframe\">\n",
       "  <thead>\n",
       "    <tr style=\"text-align: right;\">\n",
       "      <th></th>\n",
       "      <th>id</th>\n",
       "      <th>display_name</th>\n",
       "      <th>works_api_url</th>\n",
       "      <th>works_count</th>\n",
       "      <th>country_code</th>\n",
       "      <th>h_index</th>\n",
       "    </tr>\n",
       "  </thead>\n",
       "  <tbody>\n",
       "    <tr>\n",
       "      <th>0</th>\n",
       "      <td>https://openalex.org/A5026829784</td>\n",
       "      <td>Sam Corbett‐Davies</td>\n",
       "      <td>https://api.openalex.org/works?filter=author.i...</td>\n",
       "      <td>34</td>\n",
       "      <td>IL</td>\n",
       "      <td>14</td>\n",
       "    </tr>\n",
       "    <tr>\n",
       "      <th>1</th>\n",
       "      <td>https://openalex.org/A5066089123</td>\n",
       "      <td>Byungkyu Lee</td>\n",
       "      <td>https://api.openalex.org/works?filter=author.i...</td>\n",
       "      <td>186</td>\n",
       "      <td>US</td>\n",
       "      <td>13</td>\n",
       "    </tr>\n",
       "    <tr>\n",
       "      <th>2</th>\n",
       "      <td>https://openalex.org/A5100435139</td>\n",
       "      <td>Jingwen Zhang</td>\n",
       "      <td>https://api.openalex.org/works?filter=author.i...</td>\n",
       "      <td>399</td>\n",
       "      <td>CN</td>\n",
       "      <td>47</td>\n",
       "    </tr>\n",
       "    <tr>\n",
       "      <th>3</th>\n",
       "      <td>https://openalex.org/A5002073039</td>\n",
       "      <td>Sou Hyun Jang</td>\n",
       "      <td>https://api.openalex.org/works?filter=author.i...</td>\n",
       "      <td>69</td>\n",
       "      <td>KR</td>\n",
       "      <td>11</td>\n",
       "    </tr>\n",
       "    <tr>\n",
       "      <th>4</th>\n",
       "      <td>https://openalex.org/A5091610280</td>\n",
       "      <td>Carl Colglazier</td>\n",
       "      <td>https://api.openalex.org/works?filter=author.i...</td>\n",
       "      <td>4</td>\n",
       "      <td>US</td>\n",
       "      <td>1</td>\n",
       "    </tr>\n",
       "    <tr>\n",
       "      <th>5</th>\n",
       "      <td>https://openalex.org/A5071422618</td>\n",
       "      <td>Markus Strohmaier</td>\n",
       "      <td>https://api.openalex.org/works?filter=author.i...</td>\n",
       "      <td>348</td>\n",
       "      <td>DE</td>\n",
       "      <td>38</td>\n",
       "    </tr>\n",
       "    <tr>\n",
       "      <th>6</th>\n",
       "      <td>https://openalex.org/A5044191812</td>\n",
       "      <td>Vinícius Andrade Brei</td>\n",
       "      <td>https://api.openalex.org/works?filter=author.i...</td>\n",
       "      <td>63</td>\n",
       "      <td>BR</td>\n",
       "      <td>14</td>\n",
       "    </tr>\n",
       "    <tr>\n",
       "      <th>7</th>\n",
       "      <td>https://openalex.org/A5019023655</td>\n",
       "      <td>Alyssa Smith</td>\n",
       "      <td>https://api.openalex.org/works?filter=author.i...</td>\n",
       "      <td>4</td>\n",
       "      <td>MX</td>\n",
       "      <td>2</td>\n",
       "    </tr>\n",
       "    <tr>\n",
       "      <th>8</th>\n",
       "      <td>https://openalex.org/A5037451955</td>\n",
       "      <td>Alexander Furnas</td>\n",
       "      <td>https://api.openalex.org/works?filter=author.i...</td>\n",
       "      <td>51</td>\n",
       "      <td>US</td>\n",
       "      <td>6</td>\n",
       "    </tr>\n",
       "    <tr>\n",
       "      <th>9</th>\n",
       "      <td>https://openalex.org/A5010577211</td>\n",
       "      <td>Dehao Zhang</td>\n",
       "      <td>https://api.openalex.org/works?filter=author.i...</td>\n",
       "      <td>2</td>\n",
       "      <td>CN</td>\n",
       "      <td>1</td>\n",
       "    </tr>\n",
       "    <tr>\n",
       "      <th>10</th>\n",
       "      <td>https://openalex.org/A5028493599</td>\n",
       "      <td>Thomas Müller</td>\n",
       "      <td>https://api.openalex.org/works?filter=author.i...</td>\n",
       "      <td>50</td>\n",
       "      <td>FR</td>\n",
       "      <td>11</td>\n",
       "    </tr>\n",
       "    <tr>\n",
       "      <th>11</th>\n",
       "      <td>https://openalex.org/A5060256587</td>\n",
       "      <td>Claudia Acciai</td>\n",
       "      <td>https://api.openalex.org/works?filter=author.i...</td>\n",
       "      <td>14</td>\n",
       "      <td>DK</td>\n",
       "      <td>4</td>\n",
       "    </tr>\n",
       "    <tr>\n",
       "      <th>12</th>\n",
       "      <td>https://openalex.org/A5043406907</td>\n",
       "      <td>Jiahong Yuan</td>\n",
       "      <td>https://api.openalex.org/works?filter=author.i...</td>\n",
       "      <td>104</td>\n",
       "      <td>CN</td>\n",
       "      <td>22</td>\n",
       "    </tr>\n",
       "    <tr>\n",
       "      <th>13</th>\n",
       "      <td>https://openalex.org/A5080592381</td>\n",
       "      <td>Erdem Yörük</td>\n",
       "      <td>https://api.openalex.org/works?filter=author.i...</td>\n",
       "      <td>94</td>\n",
       "      <td>GB</td>\n",
       "      <td>18</td>\n",
       "    </tr>\n",
       "    <tr>\n",
       "      <th>14</th>\n",
       "      <td>https://openalex.org/A5018502975</td>\n",
       "      <td>Daniel L. Rock</td>\n",
       "      <td>https://api.openalex.org/works?filter=author.i...</td>\n",
       "      <td>181</td>\n",
       "      <td>US</td>\n",
       "      <td>63</td>\n",
       "    </tr>\n",
       "    <tr>\n",
       "      <th>15</th>\n",
       "      <td>https://openalex.org/A5061970875</td>\n",
       "      <td>Sam Zhang</td>\n",
       "      <td>https://api.openalex.org/works?filter=author.i...</td>\n",
       "      <td>645</td>\n",
       "      <td>CN</td>\n",
       "      <td>68</td>\n",
       "    </tr>\n",
       "    <tr>\n",
       "      <th>16</th>\n",
       "      <td>https://openalex.org/A5069825601</td>\n",
       "      <td>Nanfeng Zheng</td>\n",
       "      <td>https://api.openalex.org/works?filter=author.i...</td>\n",
       "      <td>628</td>\n",
       "      <td>CN</td>\n",
       "      <td>108</td>\n",
       "    </tr>\n",
       "    <tr>\n",
       "      <th>17</th>\n",
       "      <td>https://openalex.org/A5041252321</td>\n",
       "      <td>Stuart Soroka</td>\n",
       "      <td>https://api.openalex.org/works?filter=author.i...</td>\n",
       "      <td>282</td>\n",
       "      <td>US</td>\n",
       "      <td>55</td>\n",
       "    </tr>\n",
       "    <tr>\n",
       "      <th>18</th>\n",
       "      <td>https://openalex.org/A5093108990</td>\n",
       "      <td>Una Joh</td>\n",
       "      <td>https://api.openalex.org/works?filter=author.i...</td>\n",
       "      <td>1</td>\n",
       "      <td>US</td>\n",
       "      <td>1</td>\n",
       "    </tr>\n",
       "    <tr>\n",
       "      <th>19</th>\n",
       "      <td>https://openalex.org/A5001994692</td>\n",
       "      <td>Esin Durmus</td>\n",
       "      <td>https://api.openalex.org/works?filter=author.i...</td>\n",
       "      <td>56</td>\n",
       "      <td>US</td>\n",
       "      <td>21</td>\n",
       "    </tr>\n",
       "    <tr>\n",
       "      <th>20</th>\n",
       "      <td>https://openalex.org/A5041912001</td>\n",
       "      <td>Rodrigo Eduardo LÃ pez Pallo</td>\n",
       "      <td>https://api.openalex.org/works?filter=author.i...</td>\n",
       "      <td>1</td>\n",
       "      <td>NaN</td>\n",
       "      <td>0</td>\n",
       "    </tr>\n",
       "    <tr>\n",
       "      <th>21</th>\n",
       "      <td>https://openalex.org/A5006251372</td>\n",
       "      <td>Jonas A. Schlicht</td>\n",
       "      <td>https://api.openalex.org/works?filter=author.i...</td>\n",
       "      <td>1</td>\n",
       "      <td>NL</td>\n",
       "      <td>1</td>\n",
       "    </tr>\n",
       "    <tr>\n",
       "      <th>22</th>\n",
       "      <td>https://openalex.org/A5067288003</td>\n",
       "      <td>MEHMET FUAT KINA</td>\n",
       "      <td>https://api.openalex.org/works?filter=author.i...</td>\n",
       "      <td>9</td>\n",
       "      <td>TR</td>\n",
       "      <td>1</td>\n",
       "    </tr>\n",
       "    <tr>\n",
       "      <th>23</th>\n",
       "      <td>https://openalex.org/A5100322712</td>\n",
       "      <td>Yan Wang</td>\n",
       "      <td>https://api.openalex.org/works?filter=author.i...</td>\n",
       "      <td>1832</td>\n",
       "      <td>CN</td>\n",
       "      <td>69</td>\n",
       "    </tr>\n",
       "    <tr>\n",
       "      <th>24</th>\n",
       "      <td>https://openalex.org/A5017437256</td>\n",
       "      <td>Frank Mangold</td>\n",
       "      <td>https://api.openalex.org/works?filter=author.i...</td>\n",
       "      <td>31</td>\n",
       "      <td>DE</td>\n",
       "      <td>7</td>\n",
       "    </tr>\n",
       "  </tbody>\n",
       "</table>\n",
       "</div>"
      ],
      "text/plain": [
       "                                  id                  display_name  \\\n",
       "0   https://openalex.org/A5026829784            Sam Corbett‐Davies   \n",
       "1   https://openalex.org/A5066089123                  Byungkyu Lee   \n",
       "2   https://openalex.org/A5100435139                 Jingwen Zhang   \n",
       "3   https://openalex.org/A5002073039                 Sou Hyun Jang   \n",
       "4   https://openalex.org/A5091610280               Carl Colglazier   \n",
       "5   https://openalex.org/A5071422618             Markus Strohmaier   \n",
       "6   https://openalex.org/A5044191812         Vinícius Andrade Brei   \n",
       "7   https://openalex.org/A5019023655                  Alyssa Smith   \n",
       "8   https://openalex.org/A5037451955              Alexander Furnas   \n",
       "9   https://openalex.org/A5010577211                   Dehao Zhang   \n",
       "10  https://openalex.org/A5028493599                 Thomas Müller   \n",
       "11  https://openalex.org/A5060256587                Claudia Acciai   \n",
       "12  https://openalex.org/A5043406907                  Jiahong Yuan   \n",
       "13  https://openalex.org/A5080592381                   Erdem Yörük   \n",
       "14  https://openalex.org/A5018502975                Daniel L. Rock   \n",
       "15  https://openalex.org/A5061970875                     Sam Zhang   \n",
       "16  https://openalex.org/A5069825601                 Nanfeng Zheng   \n",
       "17  https://openalex.org/A5041252321                 Stuart Soroka   \n",
       "18  https://openalex.org/A5093108990                       Una Joh   \n",
       "19  https://openalex.org/A5001994692                   Esin Durmus   \n",
       "20  https://openalex.org/A5041912001  Rodrigo Eduardo LÃ pez Pallo   \n",
       "21  https://openalex.org/A5006251372             Jonas A. Schlicht   \n",
       "22  https://openalex.org/A5067288003              MEHMET FUAT KINA   \n",
       "23  https://openalex.org/A5100322712                      Yan Wang   \n",
       "24  https://openalex.org/A5017437256                 Frank Mangold   \n",
       "\n",
       "                                        works_api_url  works_count  \\\n",
       "0   https://api.openalex.org/works?filter=author.i...           34   \n",
       "1   https://api.openalex.org/works?filter=author.i...          186   \n",
       "2   https://api.openalex.org/works?filter=author.i...          399   \n",
       "3   https://api.openalex.org/works?filter=author.i...           69   \n",
       "4   https://api.openalex.org/works?filter=author.i...            4   \n",
       "5   https://api.openalex.org/works?filter=author.i...          348   \n",
       "6   https://api.openalex.org/works?filter=author.i...           63   \n",
       "7   https://api.openalex.org/works?filter=author.i...            4   \n",
       "8   https://api.openalex.org/works?filter=author.i...           51   \n",
       "9   https://api.openalex.org/works?filter=author.i...            2   \n",
       "10  https://api.openalex.org/works?filter=author.i...           50   \n",
       "11  https://api.openalex.org/works?filter=author.i...           14   \n",
       "12  https://api.openalex.org/works?filter=author.i...          104   \n",
       "13  https://api.openalex.org/works?filter=author.i...           94   \n",
       "14  https://api.openalex.org/works?filter=author.i...          181   \n",
       "15  https://api.openalex.org/works?filter=author.i...          645   \n",
       "16  https://api.openalex.org/works?filter=author.i...          628   \n",
       "17  https://api.openalex.org/works?filter=author.i...          282   \n",
       "18  https://api.openalex.org/works?filter=author.i...            1   \n",
       "19  https://api.openalex.org/works?filter=author.i...           56   \n",
       "20  https://api.openalex.org/works?filter=author.i...            1   \n",
       "21  https://api.openalex.org/works?filter=author.i...            1   \n",
       "22  https://api.openalex.org/works?filter=author.i...            9   \n",
       "23  https://api.openalex.org/works?filter=author.i...         1832   \n",
       "24  https://api.openalex.org/works?filter=author.i...           31   \n",
       "\n",
       "   country_code  h_index  \n",
       "0            IL       14  \n",
       "1            US       13  \n",
       "2            CN       47  \n",
       "3            KR       11  \n",
       "4            US        1  \n",
       "5            DE       38  \n",
       "6            BR       14  \n",
       "7            MX        2  \n",
       "8            US        6  \n",
       "9            CN        1  \n",
       "10           FR       11  \n",
       "11           DK        4  \n",
       "12           CN       22  \n",
       "13           GB       18  \n",
       "14           US       63  \n",
       "15           CN       68  \n",
       "16           CN      108  \n",
       "17           US       55  \n",
       "18           US        1  \n",
       "19           US       21  \n",
       "20          NaN        0  \n",
       "21           NL        1  \n",
       "22           TR        1  \n",
       "23           CN       69  \n",
       "24           DE        7  "
      ]
     },
     "execution_count": 21,
     "metadata": {},
     "output_type": "execute_result"
    }
   ],
   "source": [
    "# Split authors into batches. Each batch contains 25 authors\n",
    "author_batches = np.array_split(authors, len(authors) // 25)\n",
    "author_batches[0]"
   ]
  },
  {
   "cell_type": "code",
   "execution_count": null,
   "metadata": {
    "ExecuteTime": {
     "end_time": "2025-03-04T18:14:20.612272Z",
     "start_time": "2025-03-04T18:14:20.605Z"
    }
   },
   "outputs": [],
   "source": [
    "# Define DataFrame column names\n",
    "paper_col = ['id', 'publication_year', 'cited_by_count', 'author_ids']\n",
    "abstract_col = ['id', 'title', 'abstract_inverted_index']\n",
    "\n",
    "# Global API source and filter Concepts dictionaries\n",
    "source = 'https://api.openalex.org/works'\n",
    "concepts_1 = {\n",
    "    'Computer science': 'https://openalex.org/C41008148',\n",
    "    'Physics': 'https://openalex.org/C121332964',\n",
    "    'Mathematics': 'https://openalex.org/C33923547',\n",
    "}\n",
    "concepts_2 = {\n",
    "    'Psychology': 'https://openalex.org/C15744967',\n",
    "    'Sociology': 'https://openalex.org/C144024400',\n",
    "    'Economics': 'https://openalex.org/C162324750',\n",
    "    'Political science': 'https://openalex.org/C17744445',\n",
    "}"
   ]
  },
  {
   "cell_type": "markdown",
   "metadata": {},
   "source": [
    "We then define a function that calls the api on a batch in order to make the code work in parallel."
   ]
  },
  {
   "cell_type": "code",
   "execution_count": null,
   "metadata": {
    "ExecuteTime": {
     "end_time": "2025-03-04T18:43:03.734941Z",
     "start_time": "2025-03-04T18:43:03.725945Z"
    }
   },
   "outputs": [],
   "source": [
    "def process_batch(author_batch, batch_index):\n",
    "    \"\"\"\n",
    "    Process a single batch of authors by iterating over API pages,\n",
    "    applying retry logic, and collecting papers and abstracts.\n",
    "    :param author_batch: Dictionary containing batch of authors. The batch works on a maximum of 25 authors.\n",
    "    :param batch_index: The index of the batch to be processed.\n",
    "    :return: Two lists of papers and abstracts data.\n",
    "    \"\"\"\n",
    "\n",
    "    local_session = requests.Session()  # create a local session for the thread\n",
    "    local_papers_data = []\n",
    "    local_abstracts_data = []\n",
    "    page = 1\n",
    "\n",
    "    while True:\n",
    "        tries = 0\n",
    "        results = None\n",
    "        # Retry loop for API request\n",
    "        while tries < 10:\n",
    "            try:\n",
    "                # Joining author ids to bulk the request\n",
    "                author_ids_str = '|'.join(author_batch['id'])\n",
    "                url = (\n",
    "                    f\"{source}?filter=author.id:{author_ids_str},\"\n",
    "                    f\"cited_by_count:>10,authors_count:<10,\"\n",
    "                    f\"concepts.id:{'|'.join(concepts_1.values())},\"\n",
    "                    f\"concepts.id:{'|'.join(concepts_2.values())}\"\n",
    "                )\n",
    "                response = local_session.get(url, params={'per_page': 200, 'page': page})\n",
    "                results = response.json()['results']\n",
    "                break  # exit retry loop on success\n",
    "            except (JSONDecodeError, requests.exceptions.RequestException) as e:\n",
    "                tries += 1\n",
    "                sleep(0.1)\n",
    "\n",
    "        # If no results are returned, exit the paging loop\n",
    "        if not results:\n",
    "            break\n",
    "\n",
    "        # Process each paper in the current page\n",
    "        for paper in results:\n",
    "            paper_id = paper['id']\n",
    "            publication_year = paper['publication_year']\n",
    "            cited_by_count = paper['cited_by_count']\n",
    "            # Extract author IDs from the authorships list\n",
    "            author_ids = \";\".join(sub_author['author']['id'] for sub_author in paper['authorships'])\n",
    "            local_papers_data.append([paper_id, publication_year, cited_by_count, author_ids])\n",
    "\n",
    "            title = paper['title']\n",
    "            abstract_index = paper['abstract_inverted_index']\n",
    "            local_abstracts_data.append([paper_id, title, abstract_index])\n",
    "\n",
    "        page += 1\n",
    "\n",
    "    print(f\"Completed batch {batch_index}\")\n",
    "    return local_papers_data, local_abstracts_data"
   ]
  },
  {
   "cell_type": "markdown",
   "metadata": {},
   "source": [
    "We then multithread all of the batches:"
   ]
  },
  {
   "cell_type": "code",
   "execution_count": null,
   "metadata": {
    "ExecuteTime": {
     "end_time": "2025-03-04T18:43:18.540643Z",
     "start_time": "2025-03-04T18:43:04.462972Z"
    }
   },
   "outputs": [
    {
     "name": "stdout",
     "output_type": "stream",
     "text": [
      "Completed batch 9\n",
      "Completed batch 1\n",
      "Completed batch 5\n",
      "Completed batch 6\n",
      "Completed batch 4\n",
      "Completed batch 0\n",
      "Completed batch 7\n",
      "Completed batch 3\n",
      "Completed batch 8\n",
      "Completed batch 2\n",
      "Completed batch 16\n",
      "Completed batch 11\n",
      "Completed batch 15\n",
      "Completed batch 13\n",
      "Completed batch 12\n",
      "Completed batch 19\n",
      "Completed batch 10\n",
      "Completed batch 17\n",
      "Completed batch 14\n",
      "Completed batch 22\n",
      "Completed batch 18\n",
      "Completed batch 26\n",
      "Completed batch 20\n",
      "Completed batch 21\n",
      "Completed batch 25\n",
      "Completed batch 24\n",
      "Completed batch 30\n",
      "Completed batch 23\n",
      "Completed batch 28\n",
      "Completed batch 33\n",
      "Completed batch 27\n",
      "Completed batch 29\n",
      "Completed batch 37\n",
      "Completed batch 35\n",
      "Completed batch 32\n",
      "Completed batch 31\n",
      "Completed batch 36\n",
      "Completed batch 34\n",
      "Completed batch 38\n",
      "Completed batch 39\n",
      "Completed batch 40\n",
      "Completed batch 42\n",
      "Completed batch 44\n",
      "Completed batch 43\n",
      "Completed batch 41\n",
      "Completed batch 45\n"
     ]
    }
   ],
   "source": [
    "# Multi-threaded execution using ThreadPoolExecutor\n",
    "all_papers_data = []\n",
    "all_abstracts_data = []\n",
    "\n",
    "# A maximum of 10 threads work at a time\n",
    "with ThreadPoolExecutor(max_workers=10) as executor:\n",
    "    future_to_batch = {\n",
    "        executor.submit(process_batch, batch, idx): idx\n",
    "        for idx, batch in enumerate(author_batches)\n",
    "    }\n",
    "    # As each future completes, combine its results\n",
    "    for future in as_completed(future_to_batch):\n",
    "        try:\n",
    "            papers_data, abstracts_data = future.result()\n",
    "            all_papers_data.extend(papers_data)\n",
    "            all_abstracts_data.extend(abstracts_data)\n",
    "        except Exception as exc:\n",
    "            batch_index = future_to_batch[future]\n",
    "            print(f\"Batch {batch_index} generated an exception: {exc}\")"
   ]
  },
  {
   "cell_type": "code",
   "execution_count": null,
   "metadata": {
    "ExecuteTime": {
     "end_time": "2025-03-04T18:43:20.049191Z",
     "start_time": "2025-03-04T18:43:20.003293Z"
    }
   },
   "outputs": [],
   "source": [
    "# Convert the collected data into DataFrames\n",
    "papers = pd.DataFrame(all_papers_data, columns=paper_col)\n",
    "abstracts = pd.DataFrame(all_abstracts_data, columns=abstract_col)"
   ]
  },
  {
   "cell_type": "markdown",
   "metadata": {},
   "source": [
    "We can just do a sanity check and check that each DataFram are the same length"
   ]
  },
  {
   "cell_type": "code",
   "execution_count": null,
   "metadata": {
    "ExecuteTime": {
     "end_time": "2025-03-04T18:43:20.829862Z",
     "start_time": "2025-03-04T18:43:20.824544Z"
    }
   },
   "outputs": [
    {
     "name": "stdout",
     "output_type": "stream",
     "text": [
      "13150 13150\n"
     ]
    }
   ],
   "source": [
    "# Check length of papers and abstracts DataFrames\n",
    "print(len(papers), len(abstracts))"
   ]
  },
  {
   "cell_type": "markdown",
   "metadata": {},
   "source": [
    "We can then save the DataFrames"
   ]
  },
  {
   "cell_type": "code",
   "execution_count": null,
   "metadata": {
    "ExecuteTime": {
     "end_time": "2025-03-04T18:43:22.749114Z",
     "start_time": "2025-03-04T18:43:22.641613Z"
    }
   },
   "outputs": [
    {
     "data": {
      "text/html": [
       "<div>\n",
       "<style scoped>\n",
       "    .dataframe tbody tr th:only-of-type {\n",
       "        vertical-align: middle;\n",
       "    }\n",
       "\n",
       "    .dataframe tbody tr th {\n",
       "        vertical-align: top;\n",
       "    }\n",
       "\n",
       "    .dataframe thead th {\n",
       "        text-align: right;\n",
       "    }\n",
       "</style>\n",
       "<table border=\"1\" class=\"dataframe\">\n",
       "  <thead>\n",
       "    <tr style=\"text-align: right;\">\n",
       "      <th></th>\n",
       "      <th>id</th>\n",
       "      <th>publication_year</th>\n",
       "      <th>cited_by_count</th>\n",
       "      <th>author_ids</th>\n",
       "    </tr>\n",
       "  </thead>\n",
       "  <tbody>\n",
       "    <tr>\n",
       "      <th>0</th>\n",
       "      <td>https://openalex.org/W2955058313</td>\n",
       "      <td>2019</td>\n",
       "      <td>5709</td>\n",
       "      <td>https://openalex.org/A5101758238;https://opena...</td>\n",
       "    </tr>\n",
       "    <tr>\n",
       "      <th>1</th>\n",
       "      <td>https://openalex.org/W1520494989</td>\n",
       "      <td>1990</td>\n",
       "      <td>3200</td>\n",
       "      <td>https://openalex.org/A5080791781;https://opena...</td>\n",
       "    </tr>\n",
       "    <tr>\n",
       "      <th>2</th>\n",
       "      <td>https://openalex.org/W1551153090</td>\n",
       "      <td>2013</td>\n",
       "      <td>1690</td>\n",
       "      <td>https://openalex.org/A5080791781;https://opena...</td>\n",
       "    </tr>\n",
       "    <tr>\n",
       "      <th>3</th>\n",
       "      <td>https://openalex.org/W1983912405</td>\n",
       "      <td>2001</td>\n",
       "      <td>1672</td>\n",
       "      <td>https://openalex.org/A5082473613;https://opena...</td>\n",
       "    </tr>\n",
       "    <tr>\n",
       "      <th>4</th>\n",
       "      <td>https://openalex.org/W4296586302</td>\n",
       "      <td>1993</td>\n",
       "      <td>1543</td>\n",
       "      <td>https://openalex.org/A5080791781</td>\n",
       "    </tr>\n",
       "    <tr>\n",
       "      <th>...</th>\n",
       "      <td>...</td>\n",
       "      <td>...</td>\n",
       "      <td>...</td>\n",
       "      <td>...</td>\n",
       "    </tr>\n",
       "    <tr>\n",
       "      <th>11620</th>\n",
       "      <td>https://openalex.org/W2514509634</td>\n",
       "      <td>2001</td>\n",
       "      <td>12</td>\n",
       "      <td>https://openalex.org/A5010044245;https://opena...</td>\n",
       "    </tr>\n",
       "    <tr>\n",
       "      <th>11621</th>\n",
       "      <td>https://openalex.org/W2076427612</td>\n",
       "      <td>1995</td>\n",
       "      <td>13</td>\n",
       "      <td>https://openalex.org/A5040651832</td>\n",
       "    </tr>\n",
       "    <tr>\n",
       "      <th>11622</th>\n",
       "      <td>https://openalex.org/W1526178299</td>\n",
       "      <td>1999</td>\n",
       "      <td>11</td>\n",
       "      <td>https://openalex.org/A5112819277;https://opena...</td>\n",
       "    </tr>\n",
       "    <tr>\n",
       "      <th>11623</th>\n",
       "      <td>https://openalex.org/W2322495318</td>\n",
       "      <td>1991</td>\n",
       "      <td>11</td>\n",
       "      <td>https://openalex.org/A5099111335</td>\n",
       "    </tr>\n",
       "    <tr>\n",
       "      <th>11624</th>\n",
       "      <td>https://openalex.org/W1982280793</td>\n",
       "      <td>1995</td>\n",
       "      <td>11</td>\n",
       "      <td>https://openalex.org/A5099111335</td>\n",
       "    </tr>\n",
       "  </tbody>\n",
       "</table>\n",
       "<p>11625 rows × 4 columns</p>\n",
       "</div>"
      ],
      "text/plain": [
       "                                     id  publication_year  cited_by_count  \\\n",
       "0      https://openalex.org/W2955058313              2019            5709   \n",
       "1      https://openalex.org/W1520494989              1990            3200   \n",
       "2      https://openalex.org/W1551153090              2013            1690   \n",
       "3      https://openalex.org/W1983912405              2001            1672   \n",
       "4      https://openalex.org/W4296586302              1993            1543   \n",
       "...                                 ...               ...             ...   \n",
       "11620  https://openalex.org/W2514509634              2001              12   \n",
       "11621  https://openalex.org/W2076427612              1995              13   \n",
       "11622  https://openalex.org/W1526178299              1999              11   \n",
       "11623  https://openalex.org/W2322495318              1991              11   \n",
       "11624  https://openalex.org/W1982280793              1995              11   \n",
       "\n",
       "                                              author_ids  \n",
       "0      https://openalex.org/A5101758238;https://opena...  \n",
       "1      https://openalex.org/A5080791781;https://opena...  \n",
       "2      https://openalex.org/A5080791781;https://opena...  \n",
       "3      https://openalex.org/A5082473613;https://opena...  \n",
       "4                       https://openalex.org/A5080791781  \n",
       "...                                                  ...  \n",
       "11620  https://openalex.org/A5010044245;https://opena...  \n",
       "11621                   https://openalex.org/A5040651832  \n",
       "11622  https://openalex.org/A5112819277;https://opena...  \n",
       "11623                   https://openalex.org/A5099111335  \n",
       "11624                   https://openalex.org/A5099111335  \n",
       "\n",
       "[11625 rows x 4 columns]"
      ]
     },
     "execution_count": 57,
     "metadata": {},
     "output_type": "execute_result"
    }
   ],
   "source": [
    "# Drop duplicates and save to csv\n",
    "papers = papers.drop_duplicates(['id'], ignore_index=True)\n",
    "papers.to_csv('Works/IC2S2_papers.csv', index=False)\n",
    "papers"
   ]
  },
  {
   "cell_type": "code",
   "execution_count": null,
   "metadata": {
    "ExecuteTime": {
     "end_time": "2025-03-04T18:43:26.144295Z",
     "start_time": "2025-03-04T18:43:25.114432Z"
    }
   },
   "outputs": [
    {
     "data": {
      "text/html": [
       "<div>\n",
       "<style scoped>\n",
       "    .dataframe tbody tr th:only-of-type {\n",
       "        vertical-align: middle;\n",
       "    }\n",
       "\n",
       "    .dataframe tbody tr th {\n",
       "        vertical-align: top;\n",
       "    }\n",
       "\n",
       "    .dataframe thead th {\n",
       "        text-align: right;\n",
       "    }\n",
       "</style>\n",
       "<table border=\"1\" class=\"dataframe\">\n",
       "  <thead>\n",
       "    <tr style=\"text-align: right;\">\n",
       "      <th></th>\n",
       "      <th>id</th>\n",
       "      <th>title</th>\n",
       "      <th>abstract_inverted_index</th>\n",
       "    </tr>\n",
       "  </thead>\n",
       "  <tbody>\n",
       "    <tr>\n",
       "      <th>0</th>\n",
       "      <td>https://openalex.org/W2955058313</td>\n",
       "      <td>Dual Attention Network for Scene Segmentation</td>\n",
       "      <td>{'In': [0, 162], 'this': [1], 'paper,': [2], '...</td>\n",
       "    </tr>\n",
       "    <tr>\n",
       "      <th>1</th>\n",
       "      <td>https://openalex.org/W1520494989</td>\n",
       "      <td>A Continuum of Impression Formation, from Cate...</td>\n",
       "      <td>None</td>\n",
       "    </tr>\n",
       "    <tr>\n",
       "      <th>2</th>\n",
       "      <td>https://openalex.org/W1551153090</td>\n",
       "      <td>Social Cognition: From Brains to Culture</td>\n",
       "      <td>{'Social': [0, 13, 28, 46, 52, 151, 155, 162, ...</td>\n",
       "    </tr>\n",
       "    <tr>\n",
       "      <th>3</th>\n",
       "      <td>https://openalex.org/W1983912405</td>\n",
       "      <td>An ambivalent alliance: Hostile and benevolent...</td>\n",
       "      <td>{'The': [0, 45], 'equation': [1], 'of': [2, 76...</td>\n",
       "    </tr>\n",
       "    <tr>\n",
       "      <th>4</th>\n",
       "      <td>https://openalex.org/W4296586302</td>\n",
       "      <td>Controlling other people: The impact of power ...</td>\n",
       "      <td>None</td>\n",
       "    </tr>\n",
       "    <tr>\n",
       "      <th>...</th>\n",
       "      <td>...</td>\n",
       "      <td>...</td>\n",
       "      <td>...</td>\n",
       "    </tr>\n",
       "    <tr>\n",
       "      <th>11620</th>\n",
       "      <td>https://openalex.org/W2514509634</td>\n",
       "      <td>Plus Ça Change, Plus C'est Différent: A Report...</td>\n",
       "      <td>{'Reported': [0], 'here': [1], 'are': [2, 47],...</td>\n",
       "    </tr>\n",
       "    <tr>\n",
       "      <th>11621</th>\n",
       "      <td>https://openalex.org/W2076427612</td>\n",
       "      <td>The Primacy of Virtue in Children's Moral Deve...</td>\n",
       "      <td>{'Abstract': [0], 'The': [1, 60], 'concept': [...</td>\n",
       "    </tr>\n",
       "    <tr>\n",
       "      <th>11622</th>\n",
       "      <td>https://openalex.org/W1526178299</td>\n",
       "      <td>Exploring the Contexts of Information Behaviou...</td>\n",
       "      <td>{'Exploring': [0, 29], 'the': [1, 8, 30, 37], ...</td>\n",
       "    </tr>\n",
       "    <tr>\n",
       "      <th>11623</th>\n",
       "      <td>https://openalex.org/W2322495318</td>\n",
       "      <td>IT strategies for information management</td>\n",
       "      <td>None</td>\n",
       "    </tr>\n",
       "    <tr>\n",
       "      <th>11624</th>\n",
       "      <td>https://openalex.org/W1982280793</td>\n",
       "      <td>‘In the beginning was the word…’: social and e...</td>\n",
       "      <td>{'I': [0], 'have': [1, 52], 'given': [2], 'thi...</td>\n",
       "    </tr>\n",
       "  </tbody>\n",
       "</table>\n",
       "<p>11625 rows × 3 columns</p>\n",
       "</div>"
      ],
      "text/plain": [
       "                                     id  \\\n",
       "0      https://openalex.org/W2955058313   \n",
       "1      https://openalex.org/W1520494989   \n",
       "2      https://openalex.org/W1551153090   \n",
       "3      https://openalex.org/W1983912405   \n",
       "4      https://openalex.org/W4296586302   \n",
       "...                                 ...   \n",
       "11620  https://openalex.org/W2514509634   \n",
       "11621  https://openalex.org/W2076427612   \n",
       "11622  https://openalex.org/W1526178299   \n",
       "11623  https://openalex.org/W2322495318   \n",
       "11624  https://openalex.org/W1982280793   \n",
       "\n",
       "                                                   title  \\\n",
       "0          Dual Attention Network for Scene Segmentation   \n",
       "1      A Continuum of Impression Formation, from Cate...   \n",
       "2               Social Cognition: From Brains to Culture   \n",
       "3      An ambivalent alliance: Hostile and benevolent...   \n",
       "4      Controlling other people: The impact of power ...   \n",
       "...                                                  ...   \n",
       "11620  Plus Ça Change, Plus C'est Différent: A Report...   \n",
       "11621  The Primacy of Virtue in Children's Moral Deve...   \n",
       "11622  Exploring the Contexts of Information Behaviou...   \n",
       "11623           IT strategies for information management   \n",
       "11624  ‘In the beginning was the word…’: social and e...   \n",
       "\n",
       "                                 abstract_inverted_index  \n",
       "0      {'In': [0, 162], 'this': [1], 'paper,': [2], '...  \n",
       "1                                                   None  \n",
       "2      {'Social': [0, 13, 28, 46, 52, 151, 155, 162, ...  \n",
       "3      {'The': [0, 45], 'equation': [1], 'of': [2, 76...  \n",
       "4                                                   None  \n",
       "...                                                  ...  \n",
       "11620  {'Reported': [0], 'here': [1], 'are': [2, 47],...  \n",
       "11621  {'Abstract': [0], 'The': [1, 60], 'concept': [...  \n",
       "11622  {'Exploring': [0, 29], 'the': [1, 8, 30, 37], ...  \n",
       "11623                                               None  \n",
       "11624  {'I': [0], 'have': [1, 52], 'given': [2], 'thi...  \n",
       "\n",
       "[11625 rows x 3 columns]"
      ]
     },
     "execution_count": 58,
     "metadata": {},
     "output_type": "execute_result"
    }
   ],
   "source": [
    "# Drop duplicates and save to csv\n",
    "abstracts = abstracts.drop_duplicates(['id'], ignore_index=True)\n",
    "abstracts.to_csv('Works/IC2S2_abstracts.csv', index=False)\n",
    "abstracts"
   ]
  },
  {
   "cell_type": "markdown",
   "metadata": {},
   "source": [
    "> **Data Overview and Reflection questions:** Answer the following questions:\n",
    "> - **Dataset summary.** How many works are listed in your *IC2S2 papers* dataframe? How many unique researchers have co-authored these works?\n",
    "> - **Efficiency in code.** Describe the strategies you implemented to make your code more efficient. How did your approach affect your code's execution time? __(answer in max 150 words)__\n",
    "> - **Filtering Criteria and Dataset Relevance** Reflect on the rationale behind setting specific thresholds for the total number of works by an author, the citation count, the number of authors per work, and the relevance of works to specific fields. How do these filtering criteria contribute to the relevance of the dataset you compiled? Do you believe any aspects of Computational Social Science research might be underrepresented or overrepresented as a result of these choices? __(answer in max 150 words)__"
   ]
  },
  {
   "cell_type": "markdown",
   "metadata": {},
   "source": [
    "A total of 11625 unique papers are in our dataset. The following code calcualtes the number of unique reasearches that have co-authored these works:"
   ]
  },
  {
   "cell_type": "code",
   "execution_count": null,
   "metadata": {
    "ExecuteTime": {
     "end_time": "2025-03-04T18:43:37.154642Z",
     "start_time": "2025-03-04T18:43:37.126737Z"
    }
   },
   "outputs": [
    {
     "data": {
      "text/plain": [
       "17936"
      ]
     },
     "execution_count": 59,
     "metadata": {},
     "output_type": "execute_result"
    }
   ],
   "source": [
    "author_ids = ';'.join(papers['author_ids'])\n",
    "author_ids = author_ids.split(';')\n",
    "unique_authors = list(set( author_ids ))\n",
    "\n",
    "len(unique_authors)"
   ]
  },
  {
   "cell_type": "markdown",
   "metadata": {},
   "source": [
    "A total number of 17936 researches have co-authored works in our dataset."
   ]
  },
  {
   "cell_type": "markdown",
   "metadata": {},
   "source": [
    "When I first ran the code without any optimizations it took around half an hour to get all the works for the IC2S2_papers dataframe and OC2S2_abstracts dataframe. Then I implemented bulking authors together in batches of 25 which significantly reduced the running time to a few minutes, and then multithreading the batches to 10 working threads at a time reduced the running time even lower to finishing in 16 seconds."
   ]
  },
  {
   "cell_type": "markdown",
   "metadata": {},
   "source": [
    "The filters we apply aim the enhance data quality and relevant to the topic. By only including works with over 10 citations we ensure that the papers we include only contains research that have a recognized impact. The concepts  filter insures that the papers are in the field of computational social science.\n",
    "\n",
    "By having our filters we may underrepresent emerging papers with few citations, large teams of more than 10 researchers."
   ]
  },
  {
   "cell_type": "markdown",
   "metadata": {},
   "source": [
    "## Part 4: The Network of Computational Social Scientists"
   ]
  },
  {
   "cell_type": "code",
   "execution_count": 49,
   "metadata": {},
   "outputs": [],
   "source": [
    "folder_path = \"Works/\"\n",
    "papers = pd.read_csv(folder_path + \"IC2S2_papers.csv\")"
   ]
  },
  {
   "cell_type": "code",
   "execution_count": 50,
   "metadata": {},
   "outputs": [],
   "source": [
    "def pair_exists(df, author_a, author_b):\n",
    "    mask = ((df[\"author_1\"] == author_a) & (df[\"author_2\"] == author_b)) | \\\n",
    "           ((df[\"author_1\"] == author_b) & (df[\"author_2\"] == author_a))\n",
    "    match_index = df[mask].index\n",
    "    return match_index, mask.any()  # Returns True if the pair exists"
   ]
  },
  {
   "cell_type": "code",
   "execution_count": 51,
   "metadata": {},
   "outputs": [
    {
     "data": {
      "text/html": [
       "<div>\n",
       "<style scoped>\n",
       "    .dataframe tbody tr th:only-of-type {\n",
       "        vertical-align: middle;\n",
       "    }\n",
       "\n",
       "    .dataframe tbody tr th {\n",
       "        vertical-align: top;\n",
       "    }\n",
       "\n",
       "    .dataframe thead th {\n",
       "        text-align: right;\n",
       "    }\n",
       "</style>\n",
       "<table border=\"1\" class=\"dataframe\">\n",
       "  <thead>\n",
       "    <tr style=\"text-align: right;\">\n",
       "      <th></th>\n",
       "      <th>author_1</th>\n",
       "      <th>author_2</th>\n",
       "      <th>weight</th>\n",
       "    </tr>\n",
       "  </thead>\n",
       "  <tbody>\n",
       "    <tr>\n",
       "      <th>0</th>\n",
       "      <td>https://openalex.org/A5101758238</td>\n",
       "      <td>https://openalex.org/A5108392430</td>\n",
       "      <td>2</td>\n",
       "    </tr>\n",
       "    <tr>\n",
       "      <th>1</th>\n",
       "      <td>https://openalex.org/A5085637252</td>\n",
       "      <td>https://openalex.org/A5101758238</td>\n",
       "      <td>2</td>\n",
       "    </tr>\n",
       "    <tr>\n",
       "      <th>2</th>\n",
       "      <td>https://openalex.org/A5100355277</td>\n",
       "      <td>https://openalex.org/A5101758238</td>\n",
       "      <td>2</td>\n",
       "    </tr>\n",
       "    <tr>\n",
       "      <th>3</th>\n",
       "      <td>https://openalex.org/A5089195488</td>\n",
       "      <td>https://openalex.org/A5101758238</td>\n",
       "      <td>2</td>\n",
       "    </tr>\n",
       "    <tr>\n",
       "      <th>4</th>\n",
       "      <td>https://openalex.org/A5042982107</td>\n",
       "      <td>https://openalex.org/A5101758238</td>\n",
       "      <td>2</td>\n",
       "    </tr>\n",
       "    <tr>\n",
       "      <th>...</th>\n",
       "      <td>...</td>\n",
       "      <td>...</td>\n",
       "      <td>...</td>\n",
       "    </tr>\n",
       "    <tr>\n",
       "      <th>57650</th>\n",
       "      <td>https://openalex.org/A5010044245</td>\n",
       "      <td>https://openalex.org/A5109362811</td>\n",
       "      <td>1</td>\n",
       "    </tr>\n",
       "    <tr>\n",
       "      <th>57651</th>\n",
       "      <td>https://openalex.org/A5010044245</td>\n",
       "      <td>https://openalex.org/A5065572021</td>\n",
       "      <td>1</td>\n",
       "    </tr>\n",
       "    <tr>\n",
       "      <th>57652</th>\n",
       "      <td>https://openalex.org/A5099111335</td>\n",
       "      <td>https://openalex.org/A5109362811</td>\n",
       "      <td>1</td>\n",
       "    </tr>\n",
       "    <tr>\n",
       "      <th>57653</th>\n",
       "      <td>https://openalex.org/A5065572021</td>\n",
       "      <td>https://openalex.org/A5099111335</td>\n",
       "      <td>1</td>\n",
       "    </tr>\n",
       "    <tr>\n",
       "      <th>57654</th>\n",
       "      <td>https://openalex.org/A5065572021</td>\n",
       "      <td>https://openalex.org/A5109362811</td>\n",
       "      <td>1</td>\n",
       "    </tr>\n",
       "  </tbody>\n",
       "</table>\n",
       "<p>57655 rows × 3 columns</p>\n",
       "</div>"
      ],
      "text/plain": [
       "                               author_1                          author_2  \\\n",
       "0      https://openalex.org/A5101758238  https://openalex.org/A5108392430   \n",
       "1      https://openalex.org/A5085637252  https://openalex.org/A5101758238   \n",
       "2      https://openalex.org/A5100355277  https://openalex.org/A5101758238   \n",
       "3      https://openalex.org/A5089195488  https://openalex.org/A5101758238   \n",
       "4      https://openalex.org/A5042982107  https://openalex.org/A5101758238   \n",
       "...                                 ...                               ...   \n",
       "57650  https://openalex.org/A5010044245  https://openalex.org/A5109362811   \n",
       "57651  https://openalex.org/A5010044245  https://openalex.org/A5065572021   \n",
       "57652  https://openalex.org/A5099111335  https://openalex.org/A5109362811   \n",
       "57653  https://openalex.org/A5065572021  https://openalex.org/A5099111335   \n",
       "57654  https://openalex.org/A5065572021  https://openalex.org/A5109362811   \n",
       "\n",
       "       weight  \n",
       "0           2  \n",
       "1           2  \n",
       "2           2  \n",
       "3           2  \n",
       "4           2  \n",
       "...       ...  \n",
       "57650       1  \n",
       "57651       1  \n",
       "57652       1  \n",
       "57653       1  \n",
       "57654       1  \n",
       "\n",
       "[57655 rows x 3 columns]"
      ]
     },
     "execution_count": 51,
     "metadata": {},
     "output_type": "execute_result"
    }
   ],
   "source": [
    "edge_dict = {}\n",
    "for authors in papers[\"author_ids\"].values:\n",
    "    cleaned_string = authors.replace(\"[\", \"\").replace(\"]\", \"\").replace(\"'\", \"\")\n",
    "    authors = np.array(cleaned_string.split(\";\"))\n",
    "    \n",
    "    for i,author1 in enumerate(authors):\n",
    "        for j in range(i+1,len(authors)):\n",
    "            author2 = authors[j]\n",
    "            author_pair = tuple(sorted([author1,author2]))\n",
    "            if author_pair in edge_dict:\n",
    "                edge_dict[author_pair] += 1\n",
    "            else:\n",
    "                edge_dict[author_pair] = 1\n",
    "df = pd.DataFrame([{\"author_1\": pair[0], \"author_2\": pair[1], \"weight\": weight} for pair, weight in edge_dict.items()])\n",
    "df\n",
    "#df.to_csv(\"Authors/author_edgelist_allworks.csv\", index = False)"
   ]
  },
  {
   "cell_type": "code",
   "execution_count": 52,
   "metadata": {},
   "outputs": [],
   "source": [
    "G = nx.Graph()\n",
    "edges = [(row['author_1'], row['author_2'], row['weight']) for index, row in df.iterrows()]\n",
    "G.add_weighted_edges_from(edges)"
   ]
  },
  {
   "cell_type": "code",
   "execution_count": 53,
   "metadata": {},
   "outputs": [
    {
     "data": {
      "text/plain": [
       "17927"
      ]
     },
     "execution_count": 53,
     "metadata": {},
     "output_type": "execute_result"
    }
   ],
   "source": [
    "nodes_N = G.nodes\n",
    "author_N = len(nodes_N) #the number of authors\n",
    "author_N"
   ]
  },
  {
   "cell_type": "code",
   "execution_count": 54,
   "metadata": {},
   "outputs": [
    {
     "data": {
      "text/plain": [
       "79697"
      ]
     },
     "execution_count": 54,
     "metadata": {},
     "output_type": "execute_result"
    }
   ],
   "source": [
    "weight_sum = int(sum(df[\"weight\"].values))\n",
    "weight_sum"
   ]
  },
  {
   "cell_type": "code",
   "execution_count": 55,
   "metadata": {},
   "outputs": [
    {
     "data": {
      "text/plain": [
       "False"
      ]
     },
     "execution_count": 55,
     "metadata": {},
     "output_type": "execute_result"
    }
   ],
   "source": [
    "nx.is_connected(G)"
   ]
  },
  {
   "cell_type": "markdown",
   "metadata": {},
   "source": [
    "The graph is disconnected. There are isolated groups of nodes with no path connecting them."
   ]
  },
  {
   "cell_type": "code",
   "execution_count": 56,
   "metadata": {},
   "outputs": [
    {
     "name": "stdout",
     "output_type": "stream",
     "text": [
      "279\n"
     ]
    }
   ],
   "source": [
    "list_of_connected_comp = list(nx.connected_components(G))\n",
    "print(len(list_of_connected_comp)) # number of connected components"
   ]
  },
  {
   "cell_type": "code",
   "execution_count": 57,
   "metadata": {},
   "outputs": [
    {
     "data": {
      "text/plain": [
       "[]"
      ]
     },
     "execution_count": 57,
     "metadata": {},
     "output_type": "execute_result"
    }
   ],
   "source": [
    "list(nx.isolates(G)) "
   ]
  },
  {
   "cell_type": "markdown",
   "metadata": {},
   "source": [
    "There are 279 connected components and no isolated nodes in the network. It was expected that there was no isolated nodes as the network was created form a edgelist."
   ]
  },
  {
   "cell_type": "code",
   "execution_count": 58,
   "metadata": {},
   "outputs": [
    {
     "data": {
      "text/plain": [
       "0.0004959991803818455"
      ]
     },
     "execution_count": 58,
     "metadata": {},
     "output_type": "execute_result"
    }
   ],
   "source": [
    "density = weight_sum/((author_N*(author_N-1))/2)\n",
    "density #very low density"
   ]
  },
  {
   "cell_type": "code",
   "execution_count": 59,
   "metadata": {},
   "outputs": [
    {
     "data": {
      "text/plain": [
       "8.891281307524963"
      ]
     },
     "execution_count": 59,
     "metadata": {},
     "output_type": "execute_result"
    }
   ],
   "source": [
    "average_weight_pr_author = (weight_sum/author_N)*2\n",
    "average_weight_pr_author #average sum of edge weights going to each node"
   ]
  },
  {
   "cell_type": "markdown",
   "metadata": {},
   "source": [
    "279 connected componnents suggests that G is has low connectivity. This is underlined by the low density. This means that the data suggests that the CSS reasearchers are poorly connected and work in around 279 isolated groups. This makes sense since researchers probably often work in smaller teams, and since Comutational Sociaal Science is quite a wide topic, it makes sense that there exist many different subareas of research. The low density is also to be expected as it would be unrealistic that every researcher in CSS had worked together with even close to 18000 other people."
   ]
  },
  {
   "cell_type": "code",
   "execution_count": 60,
   "metadata": {},
   "outputs": [
    {
     "name": "stdout",
     "output_type": "stream",
     "text": [
      "Top 5:\n",
      "Node https://openalex.org/A5005421447 with weight: 607\n",
      "Yi Yang\n",
      "Field: Computer Science, Subfield: Computer Vision and Pattern Recognition\n",
      "\n",
      "Node https://openalex.org/A5007176508 with weight: 594\n",
      "Alex Pentland\n",
      "Field: Social Sciences, Subfield: Transportation\n",
      "\n",
      "Node https://openalex.org/A5100355277 with weight: 550\n",
      "Yong Li\n",
      "Field: Social Sciences, Subfield: Transportation\n",
      "\n",
      "Node https://openalex.org/A5100322712 with weight: 517\n",
      "Yan Wang\n",
      "Field: Computer Science, Subfield: Information Systems\n",
      "\n",
      "Node https://openalex.org/A5044944954 with weight: 514\n",
      "Lyle Ungar\n",
      "Field: Psychology, Subfield: Social Psychology\n",
      "\n"
     ]
    }
   ],
   "source": [
    "weighted_degree_dict = dict(G.degree(weight=\"weight\"))\n",
    "\n",
    "most_connected_weighted_nodes = sorted(weighted_degree_dict.items(), key=lambda x: x[1], reverse=True)\n",
    "\n",
    "url = 'https://api.openalex.org/authors/'\n",
    "\n",
    "print(\"Top 5:\")\n",
    "for id_url, weighted_degree in most_connected_weighted_nodes[:5]:\n",
    "    index = id_url.find(\"A\")\n",
    "    id = id_url[index:]\n",
    "    response = requests.get(url + id).json()\n",
    "    name = response[\"display_name\"]\n",
    "\n",
    "    print(f\"Node {id_url} with weight: {weighted_degree}\")\n",
    "    print(name)\n",
    "    \n",
    "    field = response[\"topics\"][0][\"field\"][\"display_name\"]\n",
    "    subfield = response[\"topics\"][0][\"subfield\"][\"display_name\"]\n",
    "    print(f\"Field: {field}, Subfield: {subfield}\")\n",
    "    print(\"\")"
   ]
  }
 ],
 "metadata": {
  "kernelspec": {
   "display_name": "ComputationalSocialScience",
   "language": "python",
   "name": "python3"
  },
  "language_info": {
   "codemirror_mode": {
    "name": "ipython",
    "version": 3
   },
   "file_extension": ".py",
   "mimetype": "text/x-python",
   "name": "python",
   "nbconvert_exporter": "python",
   "pygments_lexer": "ipython3",
   "version": "3.11.11"
  }
 },
 "nbformat": 4,
 "nbformat_minor": 2
}

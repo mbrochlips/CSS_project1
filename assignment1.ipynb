{
 "cells": [
  {
   "cell_type": "markdown",
   "metadata": {},
   "source": [
    "Link:\n",
    "\n",
    "| Name                | Part 1 | Part 2 | Part 3 | Part 4 |\n",
    "|---------------------|--------|--------|--------|--------|\n",
    "|  Mikkel (s234860)   | 40%    | 30%    | 30%    | 30%    |\n",
    "|  Kantinka (s23....) | 30%    | 40%    | 30%    | 40%    |\n",
    "|  Marcus (s2348..)   | 30%    | 30%    | 40%    | 30%    |"
   ]
  },
  {
   "cell_type": "code",
   "execution_count": null,
   "metadata": {},
   "outputs": [],
   "source": []
  }
 ],
 "metadata": {
  "kernelspec": {
   "display_name": "02467CSS",
   "language": "python",
   "name": "python3"
  },
  "language_info": {
   "name": "python",
   "version": "3.11.11"
  }
 },
 "nbformat": 4,
 "nbformat_minor": 2
}

{
 "cells": [
  {
   "cell_type": "markdown",
   "metadata": {},
   "source": [
    "### Part 2: Ready Made vs Custom Made Data"
   ]
  },
  {
   "cell_type": "markdown",
   "metadata": {},
   "source": [
    "#### Pros and cons of the custom-made data vs. ready-made data\n",
    "One of the advantages of custom-made data is being able to control the experimental setup to precisely fit the research question. E.g. by making a randomized setup, with a control group as in Centolas experiment. This is harder to achieve in ready-made data, as the participants might not be a representative of the entire population. E.g. It might be only some types of people who uses the fitness tracking app in Nicolaides study. Moreover the data might be incomplete or dirty, and demographic information might be sparse, either due to limited collection of data or privacy concerns.\n",
    "\n",
    "The advantages of ready-made data is that it can contain large samples taken continuously over a long period of time, whereas custom-made data has to be planned and can be costly to obtain. Ready-made data can also reflect real world conditions more closely, as the data is not obtained from an artificial setting. \n"
   ]
  },
  {
   "cell_type": "markdown",
   "metadata": {},
   "source": [
    "#### How the differences can influence the interpretation of the results\n",
    "In Centola’s experiment, the setup might be too far from a real setting to say something general about behavior contagion, as there are lots of factors the study doesn’t consider. \n",
    "\n",
    "In Nicolaides study, there is a risk of that the people who used the fitness-app is not representative of the population, maybe they are generally more social, or generally more keen to be nudged by their friends’ behavior. There is also a chance that the data doesn’t affect the theoretical concept in study, or that there are confounders. The researchers tried to take account of the latter, by using an instrumental variable. \n"
   ]
  }
 ],
 "metadata": {
  "kernelspec": {
   "display_name": "02467CSS",
   "language": "python",
   "name": "python3"
  },
  "language_info": {
   "name": "python",
   "version": "3.11.11"
  }
 },
 "nbformat": 4,
 "nbformat_minor": 2
}
